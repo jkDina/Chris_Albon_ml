{
 "cells": [
  {
   "cell_type": "markdown",
   "metadata": {},
   "source": [
    "# Глава 11 Оценивание моделей(МО Крис Элбон)"
   ]
  },
  {
   "cell_type": "markdown",
   "metadata": {},
   "source": [
    "# Перекрестная проверка моделей"
   ]
  },
  {
   "cell_type": "markdown",
   "metadata": {},
   "source": [
    "Требуется оценить, насколько хорошо модель будет работать в реальном мире."
   ]
  },
  {
   "cell_type": "markdown",
   "metadata": {},
   "source": [
    "Создать конвейер, который предварительно обрабатывает данные, тренирует модель, а затем оценивает ее с помощью перекрестной проверки."
   ]
  },
  {
   "cell_type": "code",
   "execution_count": 1,
   "metadata": {},
   "outputs": [],
   "source": [
    "#загрузить библиотеки\n",
    "from sklearn import datasets\n",
    "from sklearn import metrics\n",
    "from sklearn.model_selection import KFold, cross_val_score\n",
    "from sklearn.pipeline import make_pipeline\n",
    "from sklearn.linear_model import LogisticRegression\n",
    "from sklearn.preprocessing import StandardScaler"
   ]
  },
  {
   "cell_type": "code",
   "execution_count": 2,
   "metadata": {},
   "outputs": [],
   "source": [
    "#загрузить набор данных рукописных цифр\n",
    "digits = datasets.load_digits()"
   ]
  },
  {
   "cell_type": "code",
   "execution_count": 3,
   "metadata": {},
   "outputs": [],
   "source": [
    "#создать матрицу признаков\n",
    "features = digits.data"
   ]
  },
  {
   "cell_type": "code",
   "execution_count": 4,
   "metadata": {},
   "outputs": [],
   "source": [
    "#создать вектор целей\n",
    "target = digits.target"
   ]
  },
  {
   "cell_type": "code",
   "execution_count": 5,
   "metadata": {},
   "outputs": [],
   "source": [
    "#создать стандартизатор\n",
    "standardizer = StandardScaler()"
   ]
  },
  {
   "cell_type": "code",
   "execution_count": 6,
   "metadata": {},
   "outputs": [],
   "source": [
    "#создать объект логистической регрессии\n",
    "logit = LogisticRegression()"
   ]
  },
  {
   "cell_type": "code",
   "execution_count": 7,
   "metadata": {},
   "outputs": [],
   "source": [
    "#создать конвейер, который стандартизирует, затем\n",
    "#выполняет логистическую регрессию\n",
    "pipeline = make_pipeline(standardizer, logit)"
   ]
  },
  {
   "cell_type": "code",
   "execution_count": 8,
   "metadata": {},
   "outputs": [],
   "source": [
    "#создать к-блочную перекрестную проверку\n",
    "kf = KFold(n_splits=10, shuffle=True, random_state=1)"
   ]
  },
  {
   "cell_type": "markdown",
   "metadata": {},
   "source": [
    "https://scikit-learn.org/stable/modules/generated/sklearn.model_selection.cross_val_score.html"
   ]
  },
  {
   "cell_type": "code",
   "execution_count": 9,
   "metadata": {},
   "outputs": [],
   "source": [
    "#выполнить к-блочную перекрестную проверку\n",
    "cv_results = cross_val_score(\n",
    "    pipeline, #Конвейер\n",
    "    features, #Матрица признаков\n",
    "    target,  #Вектор целей\n",
    "    cv=kf,   #Метод перекрестной проверки\n",
    "    scoring= \"accuracy\", #Функция потери\n",
    "    n_jobs=-1 #Использовать все ядра CPU\n",
    ")"
   ]
  },
  {
   "cell_type": "code",
   "execution_count": 10,
   "metadata": {},
   "outputs": [
    {
     "data": {
      "text/plain": [
       "0.964931719428926"
      ]
     },
     "execution_count": 10,
     "metadata": {},
     "output_type": "execute_result"
    }
   ],
   "source": [
    "#вычислить среднее значение\n",
    "cv_results.mean()"
   ]
  },
  {
   "cell_type": "code",
   "execution_count": 11,
   "metadata": {},
   "outputs": [
    {
     "name": "stdout",
     "output_type": "stream",
     "text": [
      "cv_results [0.97222222 0.97777778 0.95555556 0.95       0.95555556 0.98333333\n",
      " 0.97777778 0.96648045 0.96089385 0.94972067]\n"
     ]
    }
   ],
   "source": [
    "print('cv_results', cv_results)"
   ]
  },
  {
   "cell_type": "markdown",
   "metadata": {},
   "source": [
    "### Обсуждение"
   ]
  },
  {
   "cell_type": "markdown",
   "metadata": {},
   "source": [
    "Наша цель состоит не в том, чтобы оценить, насколько хорошо работает модель с нашими тренировочными данными, а в том насколько хорошо она работает  с данными, которые она никогда не видела раньше."
   ]
  },
  {
   "cell_type": "markdown",
   "metadata": {},
   "source": [
    "Одна из стратегий - откладывание среза данных для тестирования. Он называется контрольным или отложенным набором. В обычной проверке наши наблюдения (признаки и цели) разбиваются на 2 набора. Тренировочный набор и тестовый набор. Мы берем тестовый набор и откладывваем его в сторону, делая вид, что никогда его раньше не видели."
   ]
  },
  {
   "cell_type": "markdown",
   "metadata": {},
   "source": [
    "Затем мы тренируем нашу модель, применяя наш тренировочный набор  с использованием признаков и вектора целей, чтобы научить модель тому, как делать наилучшее предсказание."
   ]
  },
  {
   "cell_type": "markdown",
   "metadata": {},
   "source": [
    "Мы симулируем, что никогда раньше не  видели внешних данных, и оцениваем то, как наша модель, натренированная на нашем тренировочном наборе, работает на нашем тестовом наборе."
   ]
  },
  {
   "cell_type": "markdown",
   "metadata": {},
   "source": [
    "Тут есть 2 недостатка:"
   ]
  },
  {
   "cell_type": "markdown",
   "metadata": {},
   "source": [
    "1)результативность модели может очень сильно зависеть от того, какое количество наблюдений было выбрано для тестового набора"
   ]
  },
  {
   "cell_type": "markdown",
   "metadata": {},
   "source": [
    "2)модель не тренируется с использованием всех имеющихся данных и не оценивается по всем имеющимся данным"
   ]
  },
  {
   "cell_type": "markdown",
   "metadata": {},
   "source": [
    "Оптимальная стратегия: к - блочная перекрестная проверка. KFCV   k-fold cross-validation"
   ]
  },
  {
   "cell_type": "markdown",
   "metadata": {},
   "source": [
    "Мы разделяем данные на к частей, называемых блоками. Модель обучается с помощью к-1 блоков(объединенных в один тренировочный набор). Последний блок, используется в качестве тестового набора."
   ]
  },
  {
   "cell_type": "markdown",
   "metadata": {},
   "source": [
    "Повторяем это к раз. На очередном шаге в качестве тестового набора, используя другой блок."
   ]
  },
  {
   "cell_type": "markdown",
   "metadata": {},
   "source": [
    "Затем результативность модели для каждой из к иттераций усредняется для получения общей меры."
   ]
  },
  {
   "cell_type": "code",
   "execution_count": null,
   "metadata": {},
   "outputs": [],
   "source": [
    "#В нашем решении мы провели к блочную перекресную проверку \n",
    "#с использованием 10 блоков и вывели в cv_results"
   ]
  },
  {
   "cell_type": "code",
   "execution_count": 12,
   "metadata": {},
   "outputs": [
    {
     "name": "stdout",
     "output_type": "stream",
     "text": [
      "cv_results [0.97222222 0.97777778 0.95555556 0.95       0.95555556 0.98333333\n",
      " 0.97777778 0.96648045 0.96089385 0.94972067]\n"
     ]
    }
   ],
   "source": [
    "#взглянуть на оценки для всех 10 блоков\n",
    "print('cv_results', cv_results)"
   ]
  },
  {
   "cell_type": "markdown",
   "metadata": {},
   "source": [
    "Несколько важных моментов:"
   ]
  },
  {
   "cell_type": "markdown",
   "metadata": {},
   "source": [
    "1)каждое наблюдение было создано независимо от другого"
   ]
  },
  {
   "cell_type": "markdown",
   "metadata": {},
   "source": [
    "Раз данные независимы и одинаково распределены, то при назначении блоков рекомендуется наблюдения перетасовывать. В библиотеке scikit-learn можно установить: shuffle=True"
   ]
  },
  {
   "cell_type": "markdown",
   "metadata": {},
   "source": [
    "2)когда мы используем к блочную перекрестную проверку для оценивания классификатора, полезно иметь блоки, содержащие примерно одинаковый процент наблюдений для каждого отдельного целевого класса."
   ]
  },
  {
   "cell_type": "markdown",
   "metadata": {},
   "source": [
    "Такая проверка называется стратифицированной к блочной."
   ]
  },
  {
   "cell_type": "markdown",
   "metadata": {},
   "source": [
    "Например, вектор целей содержит пол. 80% наблюдений были мужского пола. Тогда нужно, чтобы каждый блок содержал 80% наблюдений с мужским полом и 20% с женским."
   ]
  },
  {
   "cell_type": "markdown",
   "metadata": {},
   "source": [
    "Тогда нужно заменить класс KFold на класс StratifiedKFold, чтобы провести стратифицированную к - блочную перекрестную проверку."
   ]
  },
  {
   "cell_type": "markdown",
   "metadata": {},
   "source": [
    "3)при использовании перекрестно-проверочных наборов или перекрестной проверки - важно предварительно обработать данные на основе тренировочного набора, а затем применить преобразования к обоим наборам тренировочному и тестовому."
   ]
  },
  {
   "cell_type": "markdown",
   "metadata": {},
   "source": [
    "Подгонку с помощью метода fit нашего объекта стандартизации - делаем для тренировочного набора(вычисляем среднее и дисперсию)"
   ]
  },
  {
   "cell_type": "markdown",
   "metadata": {},
   "source": [
    "Затем применяем это преобразование с помощью метода transform и к тренеровочному и к тестовому набору."
   ]
  },
  {
   "cell_type": "code",
   "execution_count": 14,
   "metadata": {},
   "outputs": [],
   "source": [
    "#импортировать библиотеку\n",
    "from sklearn.model_selection import train_test_split"
   ]
  },
  {
   "cell_type": "code",
   "execution_count": 15,
   "metadata": {},
   "outputs": [],
   "source": [
    "#создать тренировочные и тестовые наборы\n",
    "features_train, features_test, target_train, target_test = train_test_split(features, target, test_size=0.1, random_state=1)"
   ]
  },
  {
   "cell_type": "code",
   "execution_count": 16,
   "metadata": {},
   "outputs": [
    {
     "data": {
      "text/plain": [
       "StandardScaler(copy=True, with_mean=True, with_std=True)"
      ]
     },
     "execution_count": 16,
     "metadata": {},
     "output_type": "execute_result"
    }
   ],
   "source": [
    "#выполнить подгонку стандартизатора к тренировочному набору\n",
    "standardizer.fit(features_train)"
   ]
  },
  {
   "cell_type": "code",
   "execution_count": 17,
   "metadata": {},
   "outputs": [],
   "source": [
    "#применить к обоим наборам: тренировочному и тестовому\n",
    "features_train_std = standardizer.transform(features_train)\n",
    "features_test_std = standardizer.transform(features_test)"
   ]
  },
  {
   "cell_type": "markdown",
   "metadata": {},
   "source": [
    "Мы делаем вид, что тестовый набор содержит неизвестные данные. Если мы выполним подгонку обоих наших препроцессоров, используя наблюдения из тренеровочного и тестового набора, то часть информации из тестового набора - просочится в наш тренировочный набор."
   ]
  },
  {
   "cell_type": "markdown",
   "metadata": {},
   "source": [
    "Это правило применимо для любого шага предообработки, напрмер, для отбора признаков."
   ]
  },
  {
   "cell_type": "markdown",
   "metadata": {},
   "source": [
    "Пакет pipeline библиотеки scikit-learn упрощает задачу при использовании методов перекрестной проверки. Сначала мы создаем конвейер, который предварительно обрабатывает данные, а затем тренирует модель."
   ]
  },
  {
   "cell_type": "code",
   "execution_count": 18,
   "metadata": {},
   "outputs": [],
   "source": [
    "#создать конвейер\n",
    "pipeline = make_pipeline(standardizer, logit)"
   ]
  },
  {
   "cell_type": "markdown",
   "metadata": {},
   "source": [
    "Затем мы запускаем к-блочную перекрестную проверку, используя этот конвейер."
   ]
  },
  {
   "cell_type": "code",
   "execution_count": 19,
   "metadata": {},
   "outputs": [],
   "source": [
    "#выполнить к-блочную перекрестную проверку\n",
    "cv_results = cross_val_score(\n",
    "    pipeline, #Конвейер\n",
    "    features, #Матрица признаков\n",
    "    target,  #Вектор целей\n",
    "    cv=kf,   #Метод перекрестной проверки\n",
    "    scoring= \"accuracy\", #Функция потери\n",
    "    n_jobs=-1 #Использовать все ядра CPU\n",
    ")"
   ]
  },
  {
   "cell_type": "markdown",
   "metadata": {},
   "source": [
    "Метод cross_val_score сопровождается 3 параметрами\n",
    "\n",
    "cv - определяет методику перекрестной проверки\n",
    "\n",
    "scoring - определяет метрический показатель успеха\n",
    "\n",
    "n_jobs=-1 предписывает библиотеке scikit-learn использовать все доступные ядра CPU"
   ]
  },
  {
   "cell_type": "markdown",
   "metadata": {},
   "source": [
    "# Создание базовой регрессионной модели"
   ]
  },
  {
   "cell_type": "markdown",
   "metadata": {},
   "source": [
    "В качестве ориентира требуется простая базовая регрессионная модель для сравнения с вашей моделью."
   ]
  },
  {
   "cell_type": "markdown",
   "metadata": {},
   "source": [
    "Использовать объект класса DummyRegressor библиотеки scikit-learn, которая создает простую модель фиктивной регрессии для использования в качестве ориентира."
   ]
  },
  {
   "cell_type": "code",
   "execution_count": 20,
   "metadata": {},
   "outputs": [],
   "source": [
    "#загрузить библиотеки\n",
    "from sklearn.datasets import load_boston\n",
    "from sklearn.dummy import DummyRegressor\n",
    "from sklearn.model_selection import train_test_split"
   ]
  },
  {
   "cell_type": "code",
   "execution_count": 21,
   "metadata": {},
   "outputs": [],
   "source": [
    "boston = load_boston()"
   ]
  },
  {
   "cell_type": "code",
   "execution_count": 22,
   "metadata": {},
   "outputs": [],
   "source": [
    "#создать матрицу признаков и вектор целей\n",
    "features, target = boston.data, boston.target"
   ]
  },
  {
   "cell_type": "code",
   "execution_count": 23,
   "metadata": {},
   "outputs": [],
   "source": [
    "#разбить на тренировочный и тестовые наборы\n",
    "features_train, features_test, target_train, target_test = train_test_split(features, target, random_state=0)"
   ]
  },
  {
   "cell_type": "markdown",
   "metadata": {},
   "source": [
    "https://scikit-learn.org/stable/modules/generated/sklearn.dummy.DummyRegressor.html"
   ]
  },
  {
   "cell_type": "code",
   "execution_count": 27,
   "metadata": {},
   "outputs": [],
   "source": [
    "#создать фиктивный регрессор\n",
    "dummy = DummyRegressor(strategy='mean')"
   ]
  },
  {
   "cell_type": "code",
   "execution_count": 28,
   "metadata": {},
   "outputs": [
    {
     "data": {
      "text/plain": [
       "DummyRegressor(constant=None, quantile=None, strategy='mean')"
      ]
     },
     "execution_count": 28,
     "metadata": {},
     "output_type": "execute_result"
    }
   ],
   "source": [
    "#натренировать фиктивный регрессор\n",
    "dummy.fit(features_train, target_train)"
   ]
  },
  {
   "cell_type": "code",
   "execution_count": 29,
   "metadata": {},
   "outputs": [
    {
     "data": {
      "text/plain": [
       "-0.001119359203955339"
      ]
     },
     "execution_count": 29,
     "metadata": {},
     "output_type": "execute_result"
    }
   ],
   "source": [
    "#получить оценку коэффициента детерминации(R-squared)\n",
    "dummy.score(features_test, target_test)"
   ]
  },
  {
   "cell_type": "markdown",
   "metadata": {},
   "source": [
    "https://cf.ppt-online.org/files/slide/m/MBOq50wozuT2XbLZynYEWlmeh9QRtrSa8GkNK7/slide-16.jpg"
   ]
  },
  {
   "cell_type": "markdown",
   "metadata": {},
   "source": [
    "Для сравнения, мы тренируем нашу модель и вычисляем оценку результативности"
   ]
  },
  {
   "cell_type": "code",
   "execution_count": 30,
   "metadata": {},
   "outputs": [],
   "source": [
    "from sklearn.linear_model import LinearRegression"
   ]
  },
  {
   "cell_type": "code",
   "execution_count": 31,
   "metadata": {},
   "outputs": [
    {
     "data": {
      "text/plain": [
       "LinearRegression(copy_X=True, fit_intercept=True, n_jobs=None, normalize=False)"
      ]
     },
     "execution_count": 31,
     "metadata": {},
     "output_type": "execute_result"
    }
   ],
   "source": [
    "#натренировать простую линейно-регрессионную модель\n",
    "ols = LinearRegression()\n",
    "ols.fit(features_train, target_train)"
   ]
  },
  {
   "cell_type": "code",
   "execution_count": 32,
   "metadata": {},
   "outputs": [
    {
     "data": {
      "text/plain": [
       "0.6354638433202129"
      ]
     },
     "execution_count": 32,
     "metadata": {},
     "output_type": "execute_result"
    }
   ],
   "source": [
    "#получить оценку коэффициента детерминации(R-squared)\n",
    "ols.score(features_test, target_test)"
   ]
  },
  {
   "cell_type": "markdown",
   "metadata": {},
   "source": [
    "### Обсуждение"
   ]
  },
  {
   "cell_type": "markdown",
   "metadata": {},
   "source": [
    "Фиктивный регрессор DummyRegressor позволяет создавать очень простую модель, которую можно использовать в качестве ориентира для сравнения с нашей реальной моделью."
   ]
  },
  {
   "cell_type": "markdown",
   "metadata": {},
   "source": [
    "Это полезно с целью симулировать \"наивный\", существующий предсказательный процесс."
   ]
  },
  {
   "cell_type": "markdown",
   "metadata": {},
   "source": [
    "В классе DummyRegressor используется метод strategy, для задания метода предсказания, включая среднее и медианное значение в тренировочном наборе."
   ]
  },
  {
   "cell_type": "markdown",
   "metadata": {},
   "source": [
    "Если присвоить strategy='constant' - можно заставить фиктивный регрессор предсказывать некоторое постоянное значение для каждого наблюдения."
   ]
  },
  {
   "cell_type": "code",
   "execution_count": 35,
   "metadata": {},
   "outputs": [
    {
     "data": {
      "text/plain": [
       "DummyRegressor(constant=array(20), quantile=None, strategy='constant')"
      ]
     },
     "execution_count": 35,
     "metadata": {},
     "output_type": "execute_result"
    }
   ],
   "source": [
    "#создатьфиктивный регрессор, который предсказывает 20 для всех наблюдений\n",
    "clf = DummyRegressor(strategy='constant', constant=20 )\n",
    "clf.fit(features_train, target_train)"
   ]
  },
  {
   "cell_type": "code",
   "execution_count": 36,
   "metadata": {},
   "outputs": [
    {
     "data": {
      "text/plain": [
       "-0.06510502029325727"
      ]
     },
     "execution_count": 36,
     "metadata": {},
     "output_type": "execute_result"
    }
   ],
   "source": [
    "clf.score(features_test, target_test)"
   ]
  },
  {
   "cell_type": "markdown",
   "metadata": {},
   "source": [
    "Метод score - возвращает оценку коэффициента детерминации (R- squared, R2)"
   ]
  },
  {
   "cell_type": "markdown",
   "metadata": {},
   "source": [
    "\\begin{equation*} R^2 = 1 - \\frac{\\sum_{i} (y_i-\\hat{y_i})^2}{\\sum_{i} (y_i-\\bar{y_i})^2} \\end{equation*}"
   ]
  },
  {
   "cell_type": "markdown",
   "metadata": {},
   "source": [
    "https://cf.ppt-online.org/files/slide/m/MBOq50wozuT2XbLZynYEWlmeh9QRtrSa8GkNK7/slide-16.jpg"
   ]
  },
  {
   "cell_type": "markdown",
   "metadata": {},
   "source": [
    "https://cf.ppt-online.org/files1/slide/y/ysaCe3T9hWvYp1jREXUAVlHobILgimNZGJdfwFc0z/slide-13.jpg"
   ]
  },
  {
   "cell_type": "markdown",
   "metadata": {},
   "source": [
    "$$\n",
    "y_i  \n",
    "$$  - истинное целевое значение наблюдения"
   ]
  },
  {
   "cell_type": "markdown",
   "metadata": {},
   "source": [
    "\\begin{equation*}\\hat{y_i}\\end{equation*}  - предсказанное значение"
   ]
  },
  {
   "cell_type": "markdown",
   "metadata": {},
   "source": [
    "\\begin{equation*} \\bar{y_i}\\end{equation*} -среднее значение вектора целей "
   ]
  },
  {
   "cell_type": "markdown",
   "metadata": {},
   "source": [
    "чем ближе R2 к 1, тем больше дисперсия в векторе целей, которая объясняется признаками"
   ]
  },
  {
   "cell_type": "markdown",
   "metadata": {},
   "source": [
    "# Создание базовой классификационной модели"
   ]
  },
  {
   "cell_type": "markdown",
   "metadata": {},
   "source": [
    "В качестве ориентира требуется простой базовый классификатор для сравнения с вашей моделью"
   ]
  },
  {
   "cell_type": "code",
   "execution_count": 5,
   "metadata": {},
   "outputs": [],
   "source": [
    "from sklearn.datasets import load_iris\n",
    "from sklearn.dummy import DummyClassifier\n",
    "from sklearn.model_selection import train_test_split"
   ]
  },
  {
   "cell_type": "code",
   "execution_count": 8,
   "metadata": {},
   "outputs": [],
   "source": [
    "#загрузить данные\n",
    "iris = load_iris()"
   ]
  },
  {
   "cell_type": "code",
   "execution_count": 9,
   "metadata": {},
   "outputs": [],
   "source": [
    "#создать матрицу признаков и вектор целей\n",
    "features, target = iris.data, iris.target"
   ]
  },
  {
   "cell_type": "code",
   "execution_count": 10,
   "metadata": {},
   "outputs": [],
   "source": [
    "#разбить на тренировочный и тестовые наборы\n",
    "features_train, features_test, target_train, target_test = train_test_split(features, target, random_state=0)"
   ]
  },
  {
   "cell_type": "code",
   "execution_count": 11,
   "metadata": {},
   "outputs": [
    {
     "data": {
      "text/plain": [
       "DummyClassifier(constant=None, random_state=1, strategy='uniform')"
      ]
     },
     "execution_count": 11,
     "metadata": {},
     "output_type": "execute_result"
    }
   ],
   "source": [
    "#создать фиктивный классификатор\n",
    "dummy = DummyClassifier(strategy='uniform', random_state=1 )\n",
    "\n",
    "#натренировать модель\n",
    "dummy.fit(features_train, target_train)"
   ]
  },
  {
   "cell_type": "code",
   "execution_count": 12,
   "metadata": {},
   "outputs": [
    {
     "data": {
      "text/plain": [
       "0.42105263157894735"
      ]
     },
     "execution_count": 12,
     "metadata": {},
     "output_type": "execute_result"
    }
   ],
   "source": [
    "#получить оценку точности\n",
    "dummy.score(features_test, target_test)"
   ]
  },
  {
   "cell_type": "markdown",
   "metadata": {},
   "source": [
    "Путем сопоставления базового классификатора с нашим натренированным классификатором можно увидеть улучшение:"
   ]
  },
  {
   "cell_type": "code",
   "execution_count": 13,
   "metadata": {},
   "outputs": [],
   "source": [
    "#загрузить библиотеку\n",
    "from sklearn.ensemble import RandomForestClassifier\n",
    "\n",
    "#создать классификатор случайного леса\n",
    "classifier = RandomForestClassifier()\n"
   ]
  },
  {
   "cell_type": "code",
   "execution_count": 14,
   "metadata": {},
   "outputs": [
    {
     "name": "stderr",
     "output_type": "stream",
     "text": [
      "C:\\Users\\user\\Anaconda3\\lib\\site-packages\\sklearn\\ensemble\\forest.py:245: FutureWarning: The default value of n_estimators will change from 10 in version 0.20 to 100 in 0.22.\n",
      "  \"10 in version 0.20 to 100 in 0.22.\", FutureWarning)\n"
     ]
    },
    {
     "data": {
      "text/plain": [
       "RandomForestClassifier(bootstrap=True, class_weight=None, criterion='gini',\n",
       "                       max_depth=None, max_features='auto', max_leaf_nodes=None,\n",
       "                       min_impurity_decrease=0.0, min_impurity_split=None,\n",
       "                       min_samples_leaf=1, min_samples_split=2,\n",
       "                       min_weight_fraction_leaf=0.0, n_estimators=10,\n",
       "                       n_jobs=None, oob_score=False, random_state=None,\n",
       "                       verbose=0, warm_start=False)"
      ]
     },
     "execution_count": 14,
     "metadata": {},
     "output_type": "execute_result"
    }
   ],
   "source": [
    "#натренировать модель\n",
    "classifier.fit(features_train, target_train)"
   ]
  },
  {
   "cell_type": "code",
   "execution_count": 15,
   "metadata": {},
   "outputs": [
    {
     "data": {
      "text/plain": [
       "0.9736842105263158"
      ]
     },
     "execution_count": 15,
     "metadata": {},
     "output_type": "execute_result"
    }
   ],
   "source": [
    "#получить оценку точности\n",
    "classifier.score(features_test, target_test)"
   ]
  },
  {
   "cell_type": "markdown",
   "metadata": {},
   "source": [
    "Общепринятая мера результативности классификатора - показатель насколько он лучше, чем случайное угадывание. Фиктивный классификатор облегчает выполнение такого сравнения.\n",
    "Параметр strategy определяет способ генерации значений. 2 варианта:\n",
    "\n",
    "1)stratified - предсказания пропорциональные долям классов\n",
    "\n",
    "2)uniform - равномерное распределение по классам"
   ]
  },
  {
   "cell_type": "markdown",
   "metadata": {},
   "source": [
    "# Оценивание предсказаний бинарного классификатора"
   ]
  },
  {
   "cell_type": "markdown",
   "metadata": {},
   "source": [
    "Дана натренированная классификационная модель и требуетс оценить ее качество."
   ]
  },
  {
   "cell_type": "markdown",
   "metadata": {},
   "source": [
    "Применить метод cross_val_score библиотеки scikit-learn для проведения перекрестной проверки, используя параметр scoring для определения одного из нескольких показателей результативности (accuracy, precision, recall, f1)."
   ]
  },
  {
   "cell_type": "markdown",
   "metadata": {},
   "source": [
    "Точность (accuracy)- общепринятый метрический показатель результативности, это просто доля правильно предсказанных наблюдений."
   ]
  },
  {
   "cell_type": "markdown",
   "metadata": {},
   "source": [
    "accuracy = (TP + TN) / (TP + TN + FP + FN)"
   ]
  },
  {
   "cell_type": "markdown",
   "metadata": {},
   "source": [
    "TP - количество истинноположительных исходов(наблюдения, которые являются частью положительного класса) и которые мы предсказали правильно."
   ]
  },
  {
   "cell_type": "markdown",
   "metadata": {},
   "source": [
    "TN - количество истинноотрицательных исходов(наблюдения, которые являются частью отрицательного класса) и которые мы предсказали правильно."
   ]
  },
  {
   "cell_type": "markdown",
   "metadata": {},
   "source": [
    "FP - количество ложноположительных исходов(ошибка 1-го рода), предсказанные как часть положительного класса, которые на самом деле являются частью отрицательного класса."
   ]
  },
  {
   "cell_type": "markdown",
   "metadata": {},
   "source": [
    "FN - количество ложноположительных исходов(ошибка 2-го рода), предсказанные как часть отрицательного класса, которые на самом деле являются частью положительного класса."
   ]
  },
  {
   "cell_type": "code",
   "execution_count": null,
   "metadata": {},
   "outputs": [],
   "source": []
  },
  {
   "cell_type": "code",
   "execution_count": 17,
   "metadata": {},
   "outputs": [],
   "source": [
    "#загрузить библиотеки\n",
    "from sklearn.model_selection import cross_val_score\n",
    "from sklearn.linear_model import LogisticRegression\n",
    "from sklearn.datasets import make_classification"
   ]
  },
  {
   "cell_type": "code",
   "execution_count": 19,
   "metadata": {},
   "outputs": [],
   "source": [
    "#сгенерировать матрицу признаков и вектор целей\n",
    "X, y = make_classification(n_samples=10000,\n",
    "                         n_features=3,\n",
    "                         n_informative=3,\n",
    "                         n_redundant=0,\n",
    "                         n_classes=2,\n",
    "                         random_state=1)"
   ]
  },
  {
   "cell_type": "code",
   "execution_count": 20,
   "metadata": {},
   "outputs": [],
   "source": [
    "#создать объект логистической регрессии\n",
    "logit = LogisticRegression()"
   ]
  },
  {
   "cell_type": "code",
   "execution_count": 21,
   "metadata": {},
   "outputs": [
    {
     "name": "stderr",
     "output_type": "stream",
     "text": [
      "C:\\Users\\user\\Anaconda3\\lib\\site-packages\\sklearn\\model_selection\\_split.py:1978: FutureWarning: The default value of cv will change from 3 to 5 in version 0.22. Specify it explicitly to silence this warning.\n",
      "  warnings.warn(CV_WARNING, FutureWarning)\n",
      "C:\\Users\\user\\Anaconda3\\lib\\site-packages\\sklearn\\linear_model\\logistic.py:432: FutureWarning: Default solver will be changed to 'lbfgs' in 0.22. Specify a solver to silence this warning.\n",
      "  FutureWarning)\n",
      "C:\\Users\\user\\Anaconda3\\lib\\site-packages\\sklearn\\linear_model\\logistic.py:432: FutureWarning: Default solver will be changed to 'lbfgs' in 0.22. Specify a solver to silence this warning.\n",
      "  FutureWarning)\n",
      "C:\\Users\\user\\Anaconda3\\lib\\site-packages\\sklearn\\linear_model\\logistic.py:432: FutureWarning: Default solver will be changed to 'lbfgs' in 0.22. Specify a solver to silence this warning.\n",
      "  FutureWarning)\n"
     ]
    },
    {
     "data": {
      "text/plain": [
       "array([0.95170966, 0.9580084 , 0.95558223])"
      ]
     },
     "execution_count": 21,
     "metadata": {},
     "output_type": "execute_result"
    }
   ],
   "source": [
    "#перекрестно проверить модель, используя показатель точности\n",
    "cross_val_score(logit, X, y, scoring='accuracy')"
   ]
  },
  {
   "cell_type": "markdown",
   "metadata": {},
   "source": [
    "Привлекательность accuracy (точности) - она имеет интуитивное и простое объяснение: доля наблюдений предсказанных правильно."
   ]
  },
  {
   "cell_type": "markdown",
   "metadata": {},
   "source": [
    "В реальном мире данные имеют несбалансированные классы. При наличии несбалансированных классов точность страдает от парадокса - модель высокоточна, но не обладает предсказательной силой. По этой причине используются другие метрические показатели - precision, recall, f1"
   ]
  },
  {
   "cell_type": "markdown",
   "metadata": {},
   "source": [
    "precision - доля каждого наблюдения, предсказанного положительно, которое на самом деле положительно. Т е когда мы предсказываем что-то положительное, насколько вероятно, что мы будем правы."
   ]
  },
  {
   "cell_type": "markdown",
   "metadata": {},
   "source": [
    "precision = TP/(TP + FP)"
   ]
  },
  {
   "cell_type": "code",
   "execution_count": 22,
   "metadata": {},
   "outputs": [
    {
     "name": "stderr",
     "output_type": "stream",
     "text": [
      "C:\\Users\\user\\Anaconda3\\lib\\site-packages\\sklearn\\model_selection\\_split.py:1978: FutureWarning: The default value of cv will change from 3 to 5 in version 0.22. Specify it explicitly to silence this warning.\n",
      "  warnings.warn(CV_WARNING, FutureWarning)\n",
      "C:\\Users\\user\\Anaconda3\\lib\\site-packages\\sklearn\\linear_model\\logistic.py:432: FutureWarning: Default solver will be changed to 'lbfgs' in 0.22. Specify a solver to silence this warning.\n",
      "  FutureWarning)\n",
      "C:\\Users\\user\\Anaconda3\\lib\\site-packages\\sklearn\\linear_model\\logistic.py:432: FutureWarning: Default solver will be changed to 'lbfgs' in 0.22. Specify a solver to silence this warning.\n",
      "  FutureWarning)\n",
      "C:\\Users\\user\\Anaconda3\\lib\\site-packages\\sklearn\\linear_model\\logistic.py:432: FutureWarning: Default solver will be changed to 'lbfgs' in 0.22. Specify a solver to silence this warning.\n",
      "  FutureWarning)\n"
     ]
    },
    {
     "data": {
      "text/plain": [
       "array([0.95252404, 0.96583282, 0.95558223])"
      ]
     },
     "execution_count": 22,
     "metadata": {},
     "output_type": "execute_result"
    }
   ],
   "source": [
    "cross_val_score(logit, X, y, scoring='precision')"
   ]
  },
  {
   "cell_type": "markdown",
   "metadata": {},
   "source": [
    "recall (полнота) - доля каждого положительного наблюдения, которое по настоящему положительно. "
   ]
  },
  {
   "cell_type": "markdown",
   "metadata": {},
   "source": [
    "Полнота - измеряет способность модели идентифицировать наблюдение положительного класса. Модели с вфсокой полнотой оптимистичны - имеют низкую планку для предсказаний, что наблюдение находится в положительном классе."
   ]
  },
  {
   "cell_type": "markdown",
   "metadata": {},
   "source": [
    "recall = TP/(TP + FN)"
   ]
  },
  {
   "cell_type": "code",
   "execution_count": 23,
   "metadata": {},
   "outputs": [
    {
     "name": "stderr",
     "output_type": "stream",
     "text": [
      "C:\\Users\\user\\Anaconda3\\lib\\site-packages\\sklearn\\model_selection\\_split.py:1978: FutureWarning: The default value of cv will change from 3 to 5 in version 0.22. Specify it explicitly to silence this warning.\n",
      "  warnings.warn(CV_WARNING, FutureWarning)\n",
      "C:\\Users\\user\\Anaconda3\\lib\\site-packages\\sklearn\\linear_model\\logistic.py:432: FutureWarning: Default solver will be changed to 'lbfgs' in 0.22. Specify a solver to silence this warning.\n",
      "  FutureWarning)\n",
      "C:\\Users\\user\\Anaconda3\\lib\\site-packages\\sklearn\\linear_model\\logistic.py:432: FutureWarning: Default solver will be changed to 'lbfgs' in 0.22. Specify a solver to silence this warning.\n",
      "  FutureWarning)\n",
      "C:\\Users\\user\\Anaconda3\\lib\\site-packages\\sklearn\\linear_model\\logistic.py:432: FutureWarning: Default solver will be changed to 'lbfgs' in 0.22. Specify a solver to silence this warning.\n",
      "  FutureWarning)\n"
     ]
    },
    {
     "data": {
      "text/plain": [
       "array([0.95080984, 0.94961008, 0.95558223])"
      ]
     },
     "execution_count": 23,
     "metadata": {},
     "output_type": "execute_result"
    }
   ],
   "source": [
    "cross_val_score(logit, X, y, scoring='recall')"
   ]
  },
  {
   "cell_type": "markdown",
   "metadata": {},
   "source": [
    "Баланс между recall и precision : отводится оценке f1."
   ]
  },
  {
   "cell_type": "markdown",
   "metadata": {},
   "source": [
    "f1 - среднее гармоническое"
   ]
  },
  {
   "cell_type": "markdown",
   "metadata": {},
   "source": [
    "f1 = 2 * (recall*precision)/(recall+precision)"
   ]
  },
  {
   "cell_type": "markdown",
   "metadata": {},
   "source": [
    "f1 - является мерой правильности, достигаемой в положительном предсказании(сколько наблюдений, помеченных как положительные - на самом деле положительные)."
   ]
  },
  {
   "cell_type": "code",
   "execution_count": 24,
   "metadata": {},
   "outputs": [
    {
     "name": "stderr",
     "output_type": "stream",
     "text": [
      "C:\\Users\\user\\Anaconda3\\lib\\site-packages\\sklearn\\model_selection\\_split.py:1978: FutureWarning: The default value of cv will change from 3 to 5 in version 0.22. Specify it explicitly to silence this warning.\n",
      "  warnings.warn(CV_WARNING, FutureWarning)\n",
      "C:\\Users\\user\\Anaconda3\\lib\\site-packages\\sklearn\\linear_model\\logistic.py:432: FutureWarning: Default solver will be changed to 'lbfgs' in 0.22. Specify a solver to silence this warning.\n",
      "  FutureWarning)\n",
      "C:\\Users\\user\\Anaconda3\\lib\\site-packages\\sklearn\\linear_model\\logistic.py:432: FutureWarning: Default solver will be changed to 'lbfgs' in 0.22. Specify a solver to silence this warning.\n",
      "  FutureWarning)\n",
      "C:\\Users\\user\\Anaconda3\\lib\\site-packages\\sklearn\\linear_model\\logistic.py:432: FutureWarning: Default solver will be changed to 'lbfgs' in 0.22. Specify a solver to silence this warning.\n",
      "  FutureWarning)\n"
     ]
    },
    {
     "data": {
      "text/plain": [
       "array([0.95166617, 0.95765275, 0.95558223])"
      ]
     },
     "execution_count": 24,
     "metadata": {},
     "output_type": "execute_result"
    }
   ],
   "source": [
    "cross_val_score(logit, X, y, scoring='f1')"
   ]
  },
  {
   "cell_type": "code",
   "execution_count": null,
   "metadata": {},
   "outputs": [],
   "source": [
    "f1 - баланс между полнотой и precision : относительные вклады обеих характеристик равны."
   ]
  },
  {
   "cell_type": "markdown",
   "metadata": {},
   "source": [
    "В качестве альтернативы методу cross_val_score, если уже есть истинные и предсказанные значения, можно высичлить метрические показатели такие как точность(accuracy) и полнота - напрямую."
   ]
  },
  {
   "cell_type": "code",
   "execution_count": 25,
   "metadata": {},
   "outputs": [],
   "source": [
    "from sklearn.model_selection import train_test_split\n",
    "from sklearn.metrics import accuracy_score"
   ]
  },
  {
   "cell_type": "code",
   "execution_count": 28,
   "metadata": {},
   "outputs": [],
   "source": [
    "#разбить на тренировочные и тестовые наборы\n",
    "X_train, X_test, y_train, y_test = train_test_split(X, y, test_size=0.1, random_state=1)"
   ]
  },
  {
   "cell_type": "code",
   "execution_count": 29,
   "metadata": {},
   "outputs": [
    {
     "name": "stderr",
     "output_type": "stream",
     "text": [
      "C:\\Users\\user\\Anaconda3\\lib\\site-packages\\sklearn\\linear_model\\logistic.py:432: FutureWarning: Default solver will be changed to 'lbfgs' in 0.22. Specify a solver to silence this warning.\n",
      "  FutureWarning)\n"
     ]
    }
   ],
   "source": [
    "#предсказать значения для тренировочного вектора целей\n",
    "y_hat = logit.fit(X_train, y_train).predict(X_test)"
   ]
  },
  {
   "cell_type": "code",
   "execution_count": 30,
   "metadata": {},
   "outputs": [
    {
     "data": {
      "text/plain": [
       "0.947"
      ]
     },
     "execution_count": 30,
     "metadata": {},
     "output_type": "execute_result"
    }
   ],
   "source": [
    "#вычислить точность\n",
    "accuracy_score(y_test, y_hat)"
   ]
  },
  {
   "cell_type": "markdown",
   "metadata": {},
   "source": [
    "# Оценивание порогов бинарного классикатора"
   ]
  },
  {
   "cell_type": "markdown",
   "metadata": {},
   "source": [
    "Требуется загрузить двоичный классификатор и различные вероятностные пороги."
   ]
  },
  {
   "cell_type": "markdown",
   "metadata": {},
   "source": [
    "Кривая ROC - часто используется для оценки качества бинарного классификатора. \n",
    "ROC - сравнивает наличие истинно положительных и ложноположительных исходов на каждом вероятностном пороге."
   ]
  },
  {
   "cell_type": "markdown",
   "metadata": {},
   "source": [
    "Правильное предсказание наблюдений - кривая, резко поднимающаяся вверх. Классификатор, который предсказывает наугад - имеет вид диагональной прямой. Чем лучше модель. тем ближе она к верхней сплошной линии. Используем roc_curve."
   ]
  },
  {
   "cell_type": "code",
   "execution_count": 4,
   "metadata": {},
   "outputs": [],
   "source": [
    "#загрузить библиотеки\n",
    "import matplotlib.pyplot as plt\n",
    "from sklearn.datasets import make_classification\n",
    "from sklearn.linear_model import LogisticRegression\n",
    "from sklearn.metrics import roc_curve, roc_auc_score\n",
    "from sklearn.model_selection import train_test_split"
   ]
  },
  {
   "cell_type": "code",
   "execution_count": 5,
   "metadata": {},
   "outputs": [],
   "source": [
    "#сгенерировать матрицу признаков и вектор целей\n",
    "features, target = make_classification(\n",
    "    n_samples=10000,\n",
    "    n_features=10,\n",
    "    n_informative=3,\n",
    "    n_classes=2,\n",
    "    random_state=3)"
   ]
  },
  {
   "cell_type": "code",
   "execution_count": 6,
   "metadata": {},
   "outputs": [],
   "source": [
    "#разбить на тренировочный и тестовые наборы\n",
    "features_train, features_test, target_train, target_test = train_test_split(features, target, test_size=0.1, random_state=1)"
   ]
  },
  {
   "cell_type": "code",
   "execution_count": 7,
   "metadata": {},
   "outputs": [],
   "source": [
    "#создать объект логистической регрессии\n",
    "logit = LogisticRegression()"
   ]
  },
  {
   "cell_type": "code",
   "execution_count": 8,
   "metadata": {},
   "outputs": [
    {
     "name": "stderr",
     "output_type": "stream",
     "text": [
      "C:\\Users\\user\\Anaconda3\\lib\\site-packages\\sklearn\\linear_model\\logistic.py:432: FutureWarning: Default solver will be changed to 'lbfgs' in 0.22. Specify a solver to silence this warning.\n",
      "  FutureWarning)\n"
     ]
    },
    {
     "data": {
      "text/plain": [
       "LogisticRegression(C=1.0, class_weight=None, dual=False, fit_intercept=True,\n",
       "                   intercept_scaling=1, l1_ratio=None, max_iter=100,\n",
       "                   multi_class='warn', n_jobs=None, penalty='l2',\n",
       "                   random_state=None, solver='warn', tol=0.0001, verbose=0,\n",
       "                   warm_start=False)"
      ]
     },
     "execution_count": 8,
     "metadata": {},
     "output_type": "execute_result"
    }
   ],
   "source": [
    "#натренировать модель\n",
    "logit.fit(features_train, target_train)"
   ]
  },
  {
   "cell_type": "code",
   "execution_count": 9,
   "metadata": {},
   "outputs": [],
   "source": [
    "#получить предсказанные вероятности\n",
    "target_probabilities = logit.predict_proba(features_test)[:, 1]"
   ]
  },
  {
   "cell_type": "code",
   "execution_count": 12,
   "metadata": {},
   "outputs": [],
   "source": [
    "#создать доли истинно- и ложноположительных исходов\n",
    "false_positive_rate, true_positive_rate, threshold = roc_curve(target_test, target_probabilities)"
   ]
  },
  {
   "cell_type": "code",
   "execution_count": 13,
   "metadata": {},
   "outputs": [
    {
     "data": {
      "image/png": "[encoded data removed]",
      "text/plain": [
       "<Figure size 432x288 with 1 Axes>"
      ]
     },
     "metadata": {
      "needs_background": "light"
     },
     "output_type": "display_data"
    }
   ],
   "source": [
    "#построить график кривой ROC\n",
    "plt.title(\"Кривая ROC\")\n",
    "plt.plot(false_positive_rate, true_positive_rate)\n",
    "plt.plot([0, 1], ls=\"--\")\n",
    "plt.plot([0, 0], [1, 0], c=\".7\")\n",
    "plt.plot([1, 1], c=\".7\")\n",
    "plt.ylabel(\"Доля истинноположительных исходов\")\n",
    "plt.xlabel(\"Доля ложноположительных исходов\")\n",
    "plt.show()"
   ]
  },
  {
   "cell_type": "markdown",
   "metadata": {},
   "source": [
    "https://matplotlib.org/3.1.1/tutorials/colors/colors.html"
   ]
  },
  {
   "cell_type": "markdown",
   "metadata": {},
   "source": [
    "Во многих обучающих алгоритмах предсказанные значения основаны на вероятностных оценках, т е каждому наблюдению дается явная вероятность принадлежности в каждом классе. \n",
    "Чтобы увидеть предсказанные вероятности - нужно применить метод predict_probe"
   ]
  },
  {
   "cell_type": "code",
   "execution_count": 14,
   "metadata": {},
   "outputs": [
    {
     "data": {
      "text/plain": [
       "array([[0.8688938, 0.1311062]])"
      ]
     },
     "execution_count": 14,
     "metadata": {},
     "output_type": "execute_result"
    }
   ],
   "source": [
    "#предсказанные вероятности распределения по классам\n",
    "logit.predict_proba(features_test)[0:1]"
   ]
  },
  {
   "cell_type": "code",
   "execution_count": 15,
   "metadata": {},
   "outputs": [
    {
     "data": {
      "text/plain": [
       "array([0, 1])"
      ]
     },
     "execution_count": 15,
     "metadata": {},
     "output_type": "execute_result"
    }
   ],
   "source": [
    "logit.classes_"
   ]
  },
  {
   "cell_type": "markdown",
   "metadata": {},
   "source": [
    "Первое наблюдение имеет 87% шанс быть в отрицательном классе и 13% шанс быть в положительном.\n",
    "По умолчанию библиотека scikitlearn предсказывает, что наблюдение является частьюположительного класса, если вероятность больше 0.5 (это вероятностный порог).\n",
    "Нередко требуется сместить и использовать другой порог. Например, если ложноположительный исход - дорого обходится компании(и мы предпочтем модель с высоким вероятностным порогом)."
   ]
  },
  {
   "cell_type": "markdown",
   "metadata": {},
   "source": [
    "Нам не удастся предсказать некоторорые положительные исходы, но когда наблюдение предсказано, как положительное, то можно быть уверенными - что предсказание правильное."
   ]
  },
  {
   "cell_type": "markdown",
   "metadata": {},
   "source": [
    "Этот компромисс представлен в доле истинноположительных и ложноположительных исходов."
   ]
  },
  {
   "cell_type": "markdown",
   "metadata": {},
   "source": [
    "TPR - true positive rate(recall) Количество наблюдений, предсказанных правильно, деленное на все истинноположительне наблюдения."
   ]
  },
  {
   "cell_type": "markdown",
   "metadata": {},
   "source": [
    "TPR = TP/(TP + FN)"
   ]
  },
  {
   "cell_type": "code",
   "execution_count": null,
   "metadata": {},
   "outputs": [],
   "source": [
    "TPR - какую часть положительных исходов, мы определили как положительные"
   ]
  },
  {
   "cell_type": "markdown",
   "metadata": {},
   "source": [
    "FPR - false positive rate, количестово неправильно предсказанных положительных исходов, деленное на все истинноотрицательные исходы."
   ]
  },
  {
   "cell_type": "markdown",
   "metadata": {},
   "source": [
    "FPR = FP/(FP + TN)"
   ]
  },
  {
   "cell_type": "markdown",
   "metadata": {},
   "source": [
    "FPR - какую часть отрицательных исходов мы приняли за положительные "
   ]
  },
  {
   "cell_type": "markdown",
   "metadata": {},
   "source": [
    "Для каждого вероятностного порога (threshold) - есть свои доли TPR и FPR"
   ]
  },
  {
   "cell_type": "code",
   "execution_count": 18,
   "metadata": {},
   "outputs": [
    {
     "name": "stdout",
     "output_type": "stream",
     "text": [
      "Порог:  0.5332422684258308\n",
      "Доля истинноположительных:  0.810204081632653\n",
      "Доля ложноположительных:  0.14901960784313725\n"
     ]
    }
   ],
   "source": [
    "print(\"Порог: \", threshold[116])\n",
    "print(\"Доля истинноположительных: \", true_positive_rate[116])\n",
    "print(\"Доля ложноположительных: \", false_positive_rate[116])"
   ]
  },
  {
   "cell_type": "code",
   "execution_count": 21,
   "metadata": {},
   "outputs": [
    {
     "name": "stdout",
     "output_type": "stream",
     "text": [
      "Порог:  0.7898312547309332\n",
      "Доля истинноположительных:  0.5775510204081633\n",
      "Доля ложноположительных:  0.052941176470588235\n"
     ]
    }
   ],
   "source": [
    "print(\"Порог: \", threshold[50])\n",
    "print(\"Доля истинноположительных: \", true_positive_rate[50])\n",
    "print(\"Доля ложноположительных: \", false_positive_rate[50])"
   ]
  },
  {
   "cell_type": "code",
   "execution_count": 22,
   "metadata": {},
   "outputs": [
    {
     "name": "stdout",
     "output_type": "stream",
     "text": [
      "Порог:  0.1738612849282275\n",
      "Доля истинноположительных:  0.9612244897959183\n",
      "Доля ложноположительных:  0.45294117647058824\n"
     ]
    }
   ],
   "source": [
    "print(\"Порог: \", threshold[200])\n",
    "print(\"Доля истинноположительных: \", true_positive_rate[200])\n",
    "print(\"Доля ложноположительных: \", false_positive_rate[200])"
   ]
  },
  {
   "cell_type": "markdown",
   "metadata": {},
   "source": [
    "Наше более высокое требование для предсказания в положительном классе заставило модель не идентифицировать ряд положительных наблюдений, но также уменьшить шум от отрицательных наблюдений, предсказываемых как положительные."
   ]
  },
  {
   "cell_type": "code",
   "execution_count": null,
   "metadata": {},
   "outputs": [],
   "source": [
    "Чем лучше модель, тем выше кривая ROC и больше площадь под кривой."
   ]
  },
  {
   "cell_type": "markdown",
   "metadata": {},
   "source": [
    "AUCROC  - area under the curve"
   ]
  },
  {
   "cell_type": "markdown",
   "metadata": {},
   "source": [
    "Чем ближе AUCROC к 1, тем лучше модель."
   ]
  },
  {
   "cell_type": "code",
   "execution_count": 24,
   "metadata": {},
   "outputs": [
    {
     "data": {
      "text/plain": [
       "0.9073389355742297"
      ]
     },
     "execution_count": 24,
     "metadata": {},
     "output_type": "execute_result"
    }
   ],
   "source": [
    "roc_auc_score(target_test, target_probabilities)"
   ]
  },
  {
   "cell_type": "markdown",
   "metadata": {},
   "source": [
    "# Оценивание предсказаний мультиклассового классификатора"
   ]
  },
  {
   "cell_type": "markdown",
   "metadata": {},
   "source": [
    "Дана модель, которая предсказывает 3 класса или более, требуется оценить ее результативность."
   ]
  },
  {
   "cell_type": "markdown",
   "metadata": {},
   "source": [
    "Использовать перекрестную проверку с оценочным метрическим показателем, способным справляться с более чем 2 классами."
   ]
  },
  {
   "cell_type": "code",
   "execution_count": 1,
   "metadata": {},
   "outputs": [],
   "source": [
    "#загрузить библиотеки\n",
    "from sklearn.model_selection import cross_val_score\n",
    "from sklearn.linear_model import LogisticRegression\n",
    "from sklearn.datasets import make_classification"
   ]
  },
  {
   "cell_type": "code",
   "execution_count": 2,
   "metadata": {},
   "outputs": [],
   "source": [
    "#сгенерировать матрицу признаков и вектор целей\n",
    "features, target = make_classification(\n",
    "    n_samples=10000,\n",
    "    n_features=3,\n",
    "    n_informative=3,\n",
    "    n_redundant=0,\n",
    "    n_classes=3,\n",
    "    random_state=1)"
   ]
  },
  {
   "cell_type": "code",
   "execution_count": 3,
   "metadata": {},
   "outputs": [],
   "source": [
    "#создать объект логистической регрессии\n",
    "logit = LogisticRegression()"
   ]
  },
  {
   "cell_type": "code",
   "execution_count": 4,
   "metadata": {},
   "outputs": [
    {
     "name": "stderr",
     "output_type": "stream",
     "text": [
      "C:\\Users\\user\\Anaconda3\\lib\\site-packages\\sklearn\\model_selection\\_split.py:1978: FutureWarning: The default value of cv will change from 3 to 5 in version 0.22. Specify it explicitly to silence this warning.\n",
      "  warnings.warn(CV_WARNING, FutureWarning)\n",
      "C:\\Users\\user\\Anaconda3\\lib\\site-packages\\sklearn\\linear_model\\logistic.py:432: FutureWarning: Default solver will be changed to 'lbfgs' in 0.22. Specify a solver to silence this warning.\n",
      "  FutureWarning)\n",
      "C:\\Users\\user\\Anaconda3\\lib\\site-packages\\sklearn\\linear_model\\logistic.py:469: FutureWarning: Default multi_class will be changed to 'auto' in 0.22. Specify the multi_class option to silence this warning.\n",
      "  \"this warning.\", FutureWarning)\n",
      "C:\\Users\\user\\Anaconda3\\lib\\site-packages\\sklearn\\linear_model\\logistic.py:432: FutureWarning: Default solver will be changed to 'lbfgs' in 0.22. Specify a solver to silence this warning.\n",
      "  FutureWarning)\n",
      "C:\\Users\\user\\Anaconda3\\lib\\site-packages\\sklearn\\linear_model\\logistic.py:469: FutureWarning: Default multi_class will be changed to 'auto' in 0.22. Specify the multi_class option to silence this warning.\n",
      "  \"this warning.\", FutureWarning)\n",
      "C:\\Users\\user\\Anaconda3\\lib\\site-packages\\sklearn\\linear_model\\logistic.py:432: FutureWarning: Default solver will be changed to 'lbfgs' in 0.22. Specify a solver to silence this warning.\n",
      "  FutureWarning)\n",
      "C:\\Users\\user\\Anaconda3\\lib\\site-packages\\sklearn\\linear_model\\logistic.py:469: FutureWarning: Default multi_class will be changed to 'auto' in 0.22. Specify the multi_class option to silence this warning.\n",
      "  \"this warning.\", FutureWarning)\n"
     ]
    },
    {
     "data": {
      "text/plain": [
       "array([0.83653269, 0.8259826 , 0.81308131])"
      ]
     },
     "execution_count": 4,
     "metadata": {},
     "output_type": "execute_result"
    }
   ],
   "source": [
    "#перекрестно проверить модель, используя показатель точности\n",
    "cross_val_score(logit, features, target, scoring='accuracy')"
   ]
  },
  {
   "cell_type": "markdown",
   "metadata": {},
   "source": [
    "Для сбалансированных классов - точность подходит для оценки('accuracy').\n",
    "Точность - это количество правильных предсказаний, деленное на количество наблюдений. Работает в мультикласовой классификации."
   ]
  },
  {
   "cell_type": "markdown",
   "metadata": {},
   "source": [
    "Для несбалансированных классов использовать другие метрические показатели."
   ]
  },
  {
   "cell_type": "markdown",
   "metadata": {},
   "source": [
    "precision, recall, f1 - можно применить к мультиклассовой конфигурации, рассматривая наши данные как набор бинарных классов. Это позволяет применить метрические показатели к каждому классу, как если бы он был единственным классом в данных, а затем агрегировать оценочные показатели, для всех классов путем их усреднения."
   ]
  },
  {
   "cell_type": "code",
   "execution_count": 5,
   "metadata": {},
   "outputs": [
    {
     "name": "stderr",
     "output_type": "stream",
     "text": [
      "C:\\Users\\user\\Anaconda3\\lib\\site-packages\\sklearn\\model_selection\\_split.py:1978: FutureWarning: The default value of cv will change from 3 to 5 in version 0.22. Specify it explicitly to silence this warning.\n",
      "  warnings.warn(CV_WARNING, FutureWarning)\n",
      "C:\\Users\\user\\Anaconda3\\lib\\site-packages\\sklearn\\linear_model\\logistic.py:432: FutureWarning: Default solver will be changed to 'lbfgs' in 0.22. Specify a solver to silence this warning.\n",
      "  FutureWarning)\n",
      "C:\\Users\\user\\Anaconda3\\lib\\site-packages\\sklearn\\linear_model\\logistic.py:469: FutureWarning: Default multi_class will be changed to 'auto' in 0.22. Specify the multi_class option to silence this warning.\n",
      "  \"this warning.\", FutureWarning)\n",
      "C:\\Users\\user\\Anaconda3\\lib\\site-packages\\sklearn\\linear_model\\logistic.py:432: FutureWarning: Default solver will be changed to 'lbfgs' in 0.22. Specify a solver to silence this warning.\n",
      "  FutureWarning)\n",
      "C:\\Users\\user\\Anaconda3\\lib\\site-packages\\sklearn\\linear_model\\logistic.py:469: FutureWarning: Default multi_class will be changed to 'auto' in 0.22. Specify the multi_class option to silence this warning.\n",
      "  \"this warning.\", FutureWarning)\n",
      "C:\\Users\\user\\Anaconda3\\lib\\site-packages\\sklearn\\linear_model\\logistic.py:432: FutureWarning: Default solver will be changed to 'lbfgs' in 0.22. Specify a solver to silence this warning.\n",
      "  FutureWarning)\n",
      "C:\\Users\\user\\Anaconda3\\lib\\site-packages\\sklearn\\linear_model\\logistic.py:469: FutureWarning: Default multi_class will be changed to 'auto' in 0.22. Specify the multi_class option to silence this warning.\n",
      "  \"this warning.\", FutureWarning)\n"
     ]
    },
    {
     "data": {
      "text/plain": [
       "array([0.83613125, 0.82562258, 0.81293539])"
      ]
     },
     "execution_count": 5,
     "metadata": {},
     "output_type": "execute_result"
    }
   ],
   "source": [
    "#перекрестно проверить модель, используя макроусредненную проверку f1\n",
    "cross_val_score(logit, features, target, scoring='f1_macro')"
   ]
  },
  {
   "cell_type": "markdown",
   "metadata": {},
   "source": [
    "macro - рассчитать среднее метрических ценок для каждого класса, взвешивая каждый класс одинаково\n",
    "\n",
    "weighted - рассчитать среднее метрических ценок для каждого класса, взвешивая каждый класс пропорционально его размеру в данных\n",
    "\n",
    "micro - рассчитать среднее метрических ценок для каждой комбинации \"класс-наблюдение\""
   ]
  },
  {
   "cell_type": "markdown",
   "metadata": {},
   "source": [
    "# Визуализация результативности классификатора"
   ]
  },
  {
   "cell_type": "markdown",
   "metadata": {},
   "source": [
    "Даны предсказанные классы и истинные классы текстовых данных, и требуется визуально сопоставить качество модели."
   ]
  },
  {
   "cell_type": "markdown",
   "metadata": {},
   "source": [
    "Использовать матрицу ошибок(несоответствий), которая сравнивает предсказанные и истинные классы."
   ]
  },
  {
   "cell_type": "code",
   "execution_count": 1,
   "metadata": {},
   "outputs": [],
   "source": [
    "#загрузить библиотеки\n",
    "import matplotlib.pyplot as plt\n",
    "import seaborn as sns\n",
    "from sklearn import datasets\n",
    "from sklearn.linear_model import LogisticRegression\n",
    "from sklearn.model_selection import train_test_split\n",
    "from sklearn.metrics import confusion_matrix\n",
    "import pandas as pd"
   ]
  },
  {
   "cell_type": "code",
   "execution_count": 2,
   "metadata": {},
   "outputs": [],
   "source": [
    "iris = datasets.load_iris()"
   ]
  },
  {
   "cell_type": "code",
   "execution_count": 3,
   "metadata": {},
   "outputs": [],
   "source": [
    "#создать матрицу признаков\n",
    "features = iris.data\n",
    "#создать вектор целей\n",
    "target = iris.target"
   ]
  },
  {
   "cell_type": "code",
   "execution_count": 4,
   "metadata": {},
   "outputs": [],
   "source": [
    "#создать список имен целевых классов\n",
    "class_names = iris.target_names"
   ]
  },
  {
   "cell_type": "code",
   "execution_count": 5,
   "metadata": {},
   "outputs": [],
   "source": [
    "features_train, features_test, target_train, target_test = train_test_split(features, target, random_state=1)"
   ]
  },
  {
   "cell_type": "code",
   "execution_count": 6,
   "metadata": {},
   "outputs": [],
   "source": [
    "#создать объект логистической регрессии\n",
    "classifier = LogisticRegression()"
   ]
  },
  {
   "cell_type": "code",
   "execution_count": 7,
   "metadata": {},
   "outputs": [
    {
     "name": "stderr",
     "output_type": "stream",
     "text": [
      "C:\\Users\\user\\Anaconda3\\lib\\site-packages\\sklearn\\linear_model\\logistic.py:432: FutureWarning: Default solver will be changed to 'lbfgs' in 0.22. Specify a solver to silence this warning.\n",
      "  FutureWarning)\n",
      "C:\\Users\\user\\Anaconda3\\lib\\site-packages\\sklearn\\linear_model\\logistic.py:469: FutureWarning: Default multi_class will be changed to 'auto' in 0.22. Specify the multi_class option to silence this warning.\n",
      "  \"this warning.\", FutureWarning)\n"
     ]
    }
   ],
   "source": [
    "#натренировать модель и сделать предсказания\n",
    "target_predicted = classifier.fit(features_train, target_train)\n",
    "target_predicted = target_predicted.predict(features_test)"
   ]
  },
  {
   "cell_type": "code",
   "execution_count": 8,
   "metadata": {},
   "outputs": [],
   "source": [
    "#создать матрицу ошибок\n",
    "matrix = confusion_matrix(target_test, target_predicted)"
   ]
  },
  {
   "cell_type": "code",
   "execution_count": 10,
   "metadata": {},
   "outputs": [],
   "source": [
    "dataframe = pd.DataFrame(matrix, index=class_names, columns=class_names)"
   ]
  },
  {
   "cell_type": "code",
   "execution_count": 11,
   "metadata": {},
   "outputs": [
    {
     "data": {
      "image/png": "[encoded data removed]",
      "text/plain": [
       "<Figure size 432x288 with 1 Axes>"
      ]
     },
     "metadata": {
      "needs_background": "light"
     },
     "output_type": "display_data"
    }
   ],
   "source": [
    "#создать тепловую карту\n",
    "sns.heatmap(dataframe, annot=True, cbar=None, cmap=\"Blues\") #annot нужно ли ставить цифры в ячейки\n",
    "plt.title(\"Матрица ошибок\")\n",
    "plt.tight_layout()\n",
    "plt.ylabel(\"Истинный класс\")\n",
    "plt.xlabel(\"Предсказанный класс\")\n",
    "plt.show()"
   ]
  },
  {
   "cell_type": "markdown",
   "metadata": {},
   "source": [
    "Матрицы ошибок (несоответствий) - это простая и эффективная визуализация качества работы классификатора. Столбец - предсказанные классы. Строка - истинные классы. Каждая ячейка - одна возможная комбинация предсказанных и истинных классов."
   ]
  },
  {
   "cell_type": "code",
   "execution_count": 13,
   "metadata": {},
   "outputs": [],
   "source": [
    "#help(sns.heatmap)"
   ]
  },
  {
   "cell_type": "markdown",
   "metadata": {},
   "source": [
    "Идеальная модель - значения вдоль диагонали и нули в остальных ячейках.\n",
    "Плохая модель - количество наблюдений равномерно распределено по ячейкам."
   ]
  },
  {
   "cell_type": "markdown",
   "metadata": {},
   "source": [
    "Матрица ошибок позволяет увидеть - не только, где модель была неправильной, но и как она была неправильной. Т е мы можем взглянуть на шаблоны неправильной классификации."
   ]
  },
  {
   "cell_type": "markdown",
   "metadata": {},
   "source": [
    "Матрицы ошибок работают с любым количеством классов."
   ]
  },
  {
   "cell_type": "markdown",
   "metadata": {},
   "source": [
    "# Оценивание регрессионных моделей"
   ]
  },
  {
   "cell_type": "markdown",
   "metadata": {},
   "source": [
    "https://scikit-learn.org/stable/modules/model_evaluation.html"
   ]
  },
  {
   "cell_type": "markdown",
   "metadata": {},
   "source": [
    "All scorer objects follow the convention that higher return values are better than lower return values. Thus metrics which measure the distance between the model and the data, like metrics.mean_squared_error, are available as neg_mean_squared_error which return the negated value of the metric."
   ]
  },
  {
   "cell_type": "markdown",
   "metadata": {},
   "source": [
    "Требуется оценить результативность регрессионной модели"
   ]
  },
  {
   "cell_type": "markdown",
   "metadata": {},
   "source": [
    "Использовать MSE(mean squared error)"
   ]
  },
  {
   "cell_type": "code",
   "execution_count": 2,
   "metadata": {},
   "outputs": [],
   "source": [
    "#загрузить библиотеки\n",
    "from sklearn.datasets import make_regression\n",
    "from sklearn.model_selection import cross_val_score\n",
    "from sklearn.linear_model import LinearRegression"
   ]
  },
  {
   "cell_type": "code",
   "execution_count": 5,
   "metadata": {},
   "outputs": [],
   "source": [
    "#сгенерировать матрицу признаков, вектор целей\n",
    "features, target = make_regression(n_samples=100,\n",
    "                                   n_features=3,\n",
    "                                   n_informative=3,\n",
    "                                   n_targets=1,\n",
    "                                   noise=50,\n",
    "                                   coef=False,\n",
    "                                   random_state=1)"
   ]
  },
  {
   "cell_type": "code",
   "execution_count": 6,
   "metadata": {},
   "outputs": [],
   "source": [
    "#создать объект линейной регрессии\n",
    "ols = LinearRegression()"
   ]
  },
  {
   "cell_type": "code",
   "execution_count": 7,
   "metadata": {},
   "outputs": [
    {
     "name": "stderr",
     "output_type": "stream",
     "text": [
      "C:\\Users\\user\\Anaconda3\\lib\\site-packages\\sklearn\\model_selection\\_split.py:1978: FutureWarning: The default value of cv will change from 3 to 5 in version 0.22. Specify it explicitly to silence this warning.\n",
      "  warnings.warn(CV_WARNING, FutureWarning)\n"
     ]
    },
    {
     "data": {
      "text/plain": [
       "array([-1718.22817783, -3103.4124284 , -1377.17858823])"
      ]
     },
     "execution_count": 7,
     "metadata": {},
     "output_type": "execute_result"
    }
   ],
   "source": [
    "#перекрестно проверить линейную регрессию, используя (отрицательный) показатель MSE\n",
    "cross_val_score(ols, features, target, scoring='neg_mean_squared_error')"
   ]
  },
  {
   "cell_type": "markdown",
   "metadata": {},
   "source": [
    "Eще один распространенный метрический показатель регрессии коэффициент R^2"
   ]
  },
  {
   "cell_type": "code",
   "execution_count": 8,
   "metadata": {},
   "outputs": [
    {
     "name": "stderr",
     "output_type": "stream",
     "text": [
      "C:\\Users\\user\\Anaconda3\\lib\\site-packages\\sklearn\\model_selection\\_split.py:1978: FutureWarning: The default value of cv will change from 3 to 5 in version 0.22. Specify it explicitly to silence this warning.\n",
      "  warnings.warn(CV_WARNING, FutureWarning)\n"
     ]
    },
    {
     "data": {
      "text/plain": [
       "array([0.87804558, 0.76395862, 0.89154377])"
      ]
     },
     "execution_count": 8,
     "metadata": {},
     "output_type": "execute_result"
    }
   ],
   "source": [
    "#перекрестно проверить линейную регрессию, используя показатель R^2\n",
    "cross_val_score(ols, features, target, scoring='r2')"
   ]
  },
  {
   "cell_type": "markdown",
   "metadata": {},
   "source": [
    "MSE является одним из наиболее распространенных оценочных показателей для регрессионных моделей.\n",
    "Формально MSE имеет вид:"
   ]
  },
  {
   "cell_type": "markdown",
   "metadata": {},
   "source": [
    "\\begin{equation*} MSE = \\frac{1}{n}  \\sum_{i=1}^{n} (\\hat{y_i} - y_i)^2 \\end{equation*}"
   ]
  },
  {
   "cell_type": "markdown",
   "metadata": {},
   "source": [
    "n - число наблюдений\n",
    "\n",
    "\\begin{equation*}  y_i \\end{equation*} - истинное целевое значение"
   ]
  },
  {
   "cell_type": "markdown",
   "metadata": {},
   "source": [
    "\\begin{equation*}  \\hat{y_i} \\end{equation*} - предсказанное моделью значение для   y_i "
   ]
  },
  {
   "cell_type": "markdown",
   "metadata": {},
   "source": [
    "MSE - это мера квадратичной суммы для всех расстояний между предсказанными и истинными значениями. Чем выше значение MSE, тем больше общая квадратичная ошибка, и тем хуже модель. Плюс от возведения в квадрат - значения всех ошибок положительные. Особенность - штрафует несколько крупных ошибок больше, чем множество мелких(даже если абсолютные значения ошибки одинаковые)."
   ]
  },
  {
   "cell_type": "markdown",
   "metadata": {},
   "source": [
    "Важное замечание: в библиотеке scikit-learn аргументы переменной scoring чем больше - тем лучше. Но это не относится к MSE (тут более высокие значения - худшая модель). Поэтому используется - neg_mean_squared_error."
   ]
  },
  {
   "cell_type": "markdown",
   "metadata": {},
   "source": [
    "R^2 - также используется как оценочный показатель регрессии (измеряет величину дисперсии в векторе целей)"
   ]
  },
  {
   "cell_type": "markdown",
   "metadata": {},
   "source": [
    "\\begin{equation*} R^2 = 1 -  \\frac{\\sum_{i=1}^{n} (y_i - \\hat{y_i})^2}{\\sum_{i=1}^{n} (y_i - \\bar{y_i})^2} \\end{equation*}"
   ]
  },
  {
   "cell_type": "markdown",
   "metadata": {},
   "source": [
    "n - число наблюдений\n",
    "\n",
    "\\begin{equation*}  y_i \\end{equation*} - истинное целевое значение"
   ]
  },
  {
   "cell_type": "markdown",
   "metadata": {},
   "source": [
    "\\begin{equation*}  \\hat{y_i} \\end{equation*} - предсказанное моделью значение для   y_i "
   ]
  },
  {
   "cell_type": "markdown",
   "metadata": {},
   "source": [
    "\\begin{equation*} \\bar{y_i}\\end{equation*} -среднее значение вектора целей "
   ]
  },
  {
   "cell_type": "markdown",
   "metadata": {},
   "source": [
    "Чем ближе к 1, тем лучше модель."
   ]
  },
  {
   "cell_type": "markdown",
   "metadata": {},
   "source": [
    "# Оценивание кластеризующих моделей"
   ]
  },
  {
   "cell_type": "markdown",
   "metadata": {},
   "source": [
    "Применен неконтролируемо обучающийся алгоритм с целью кластеризации данных. Теперь требуется узнать, насколько хорошо он справился со своей работой."
   ]
  },
  {
   "cell_type": "markdown",
   "metadata": {},
   "source": [
    "Оценка кластеризации с использованием силуэтных коэффициентов."
   ]
  },
  {
   "cell_type": "code",
   "execution_count": 8,
   "metadata": {},
   "outputs": [],
   "source": [
    "#загрузить библиотеки\n",
    "import numpy as np\n",
    "from sklearn.metrics import silhouette_score\n",
    "from sklearn import datasets\n",
    "from sklearn.cluster import KMeans\n",
    "from sklearn.datasets import make_blobs\n",
    "import matplotlib.pyplot as plt\n",
    "% matplotlib inline"
   ]
  },
  {
   "cell_type": "code",
   "execution_count": 6,
   "metadata": {},
   "outputs": [],
   "source": [
    "#сгенерировать матрицу признаков\n",
    "features, _ = make_blobs(n_samples=1000,\n",
    "                        n_features=10,\n",
    "                        centers=2,\n",
    "                        cluster_std=0.5,\n",
    "                        shuffle=True,\n",
    "                        random_state=1)"
   ]
  },
  {
   "cell_type": "code",
   "execution_count": 10,
   "metadata": {},
   "outputs": [
    {
     "name": "stdout",
     "output_type": "stream",
     "text": [
      "[[-1.69447144  3.23887889 -5.90612526 ...  1.84068368 -7.95912024\n",
      "  -6.33972358]\n",
      " [-1.46528223  3.13504785 -5.54488655 ...  0.46824734 -7.31223947\n",
      "  -6.33047766]\n",
      " [-1.38723852  3.78863535 -6.15814893 ...  2.0206174  -7.53142717\n",
      "  -5.60147422]\n",
      " ...\n",
      " [-1.07462939  3.27468549 -5.79053892 ...  0.45251815 -7.15140785\n",
      "  -6.36095282]\n",
      " [-1.45810635  4.57155117 -6.12525727 ...  1.32757808 -7.12927195\n",
      "  -5.49113664]\n",
      " [-1.84629813  3.74593658 -9.96694552 ... -3.26826911 -1.94726487\n",
      "   1.51474148]]\n"
     ]
    }
   ],
   "source": [
    "print(features)"
   ]
  },
  {
   "cell_type": "code",
   "execution_count": 12,
   "metadata": {},
   "outputs": [],
   "source": [
    "#кластеризовать данные, используя алгоритм к-средних, чтобы предсказать классы\n",
    "model = KMeans(n_clusters=2, random_state=1)\n",
    "model = model.fit(features)"
   ]
  },
  {
   "cell_type": "code",
   "execution_count": 13,
   "metadata": {},
   "outputs": [],
   "source": [
    "#получить предсказанные классы\n",
    "target_predicted = model.labels_"
   ]
  },
  {
   "cell_type": "code",
   "execution_count": 14,
   "metadata": {},
   "outputs": [
    {
     "data": {
      "text/plain": [
       "0.8916265564072142"
      ]
     },
     "execution_count": 14,
     "metadata": {},
     "output_type": "execute_result"
    }
   ],
   "source": [
    "#оценить модель\n",
    "silhouette_score(features, target_predicted)"
   ]
  },
  {
   "cell_type": "code",
   "execution_count": 15,
   "metadata": {},
   "outputs": [
    {
     "data": {
      "text/plain": [
       "<matplotlib.collections.PathCollection at 0x23175b0f2b0>"
      ]
     },
     "execution_count": 15,
     "metadata": {},
     "output_type": "execute_result"
    },
    {
     "data": {
      "image/png": "[encoded data removed]",
      "text/plain": [
       "<Figure size 432x288 with 1 Axes>"
      ]
     },
     "metadata": {
      "needs_background": "light"
     },
     "output_type": "display_data"
    }
   ],
   "source": [
    "plt.scatter(features[:, 0], features[:, 1], marker='*', c=target_predicted)"
   ]
  },
  {
   "cell_type": "markdown",
   "metadata": {},
   "source": [
    "В кластеризующих методах данные - не имеют вектора целей.\n",
    "Мы можем оценить природу кластеров.\n",
    "\"Хорошие\" кластеры имеют очень малые растояния между наблюдениями в одном кластере(плотные кластеры) и большие растояния между разными кластерами(хорошо разделенные кластеры). "
   ]
  },
  {
   "cell_type": "markdown",
   "metadata": {},
   "source": [
    "Силуэтные коэффициенты  - измеряют сразу обе черты:"
   ]
  },
  {
   "cell_type": "markdown",
   "metadata": {},
   "source": [
    "\\begin{equation*} s_i = \\frac{b_i - a_i}{\\max(a_i, b_i)}  \\end{equation*}"
   ]
  },
  {
   "cell_type": "markdown",
   "metadata": {},
   "source": [
    "s_i  - силуэтный коэффициент для наблюдения i\n",
    "\n",
    "a_i  - среднее расстояние между i и всеми наблюдениями одного класса\n",
    "\n",
    "b_i  - среднее расстояние между i и всеми наблюдениями из ближайшего кластера другого класса."
   ]
  },
  {
   "cell_type": "markdown",
   "metadata": {},
   "source": [
    "Значение, возвращаемое параметром silhouette_score, является средним силуэтным коэффициентом для всех наблюдений."
   ]
  },
  {
   "cell_type": "markdown",
   "metadata": {},
   "source": [
    "Силуэтные коэффициенты варьируются от -1 до 1. Причем 1 указывает на плотные, хорошо разделенные кластеры."
   ]
  },
  {
   "cell_type": "markdown",
   "metadata": {},
   "source": [
    "# Создание собственного оценочного метрического показателя"
   ]
  },
  {
   "cell_type": "markdown",
   "metadata": {},
   "source": [
    "Требуется оценить модель с помощью созданного метрического показателя."
   ]
  },
  {
   "cell_type": "markdown",
   "metadata": {},
   "source": [
    "Создать метрический показатель как функцию и конвертировать его в оценочную функцию, используя фабричную функцию make_scorer библиотеки scikit learn."
   ]
  },
  {
   "cell_type": "code",
   "execution_count": 1,
   "metadata": {},
   "outputs": [],
   "source": [
    "#загрузить библиотеки\n",
    "from sklearn.metrics import make_scorer, r2_score\n",
    "from sklearn.model_selection import train_test_split\n",
    "from sklearn.linear_model import Ridge\n",
    "from sklearn .datasets import make_regression"
   ]
  },
  {
   "cell_type": "code",
   "execution_count": 2,
   "metadata": {},
   "outputs": [],
   "source": [
    "#сгенерировать матрицу признаков и вектор целей\n",
    "features, target = make_regression(n_samples=100,\n",
    "                                  n_features=3,\n",
    "                                  random_state=1)"
   ]
  },
  {
   "cell_type": "code",
   "execution_count": 3,
   "metadata": {},
   "outputs": [],
   "source": [
    "#создать тренировочные и тестовые наборы\n",
    "features_train, features_test, target_train, target_test = train_test_split(features, target, test_size=0.1, random_state=1)"
   ]
  },
  {
   "cell_type": "code",
   "execution_count": 4,
   "metadata": {},
   "outputs": [],
   "source": [
    "#создать собственный метрический показатель\n",
    "def custom_metric(target_test, target_predicted):\n",
    "    #вычислить оценочный показатель r - квадрат\n",
    "    r2 = r2_score(target_test, target_predicted)\n",
    "    return r2"
   ]
  },
  {
   "cell_type": "code",
   "execution_count": 5,
   "metadata": {},
   "outputs": [],
   "source": [
    "#создать оценочную функцию и установить, что чем выше оценки, тем они лучше\n",
    "score = make_scorer(custom_metric, greater_is_better=True)"
   ]
  },
  {
   "cell_type": "code",
   "execution_count": 6,
   "metadata": {},
   "outputs": [],
   "source": [
    "#создать объект гребневой регрессии\n",
    "classifier = Ridge()"
   ]
  },
  {
   "cell_type": "code",
   "execution_count": 7,
   "metadata": {},
   "outputs": [],
   "source": [
    "model = classifier.fit(features_train, target_train)"
   ]
  },
  {
   "cell_type": "code",
   "execution_count": 8,
   "metadata": {},
   "outputs": [
    {
     "data": {
      "text/plain": [
       "0.9997906102882058"
      ]
     },
     "execution_count": 8,
     "metadata": {},
     "output_type": "execute_result"
    }
   ],
   "source": [
    "#применить собственную оценочную функцию\n",
    "score(model, features_test, target_test)"
   ]
  },
  {
   "cell_type": "markdown",
   "metadata": {},
   "source": [
    "https://scikit-learn.org/stable/modules/generated/sklearn.metrics.make_scorer.html"
   ]
  },
  {
   "cell_type": "code",
   "execution_count": 9,
   "metadata": {},
   "outputs": [
    {
     "name": "stdout",
     "output_type": "stream",
     "text": [
      "Help on _PredictScorer in module sklearn.metrics.scorer object:\n",
      "\n",
      "class _PredictScorer(_BaseScorer)\n",
      " |  _PredictScorer(score_func, sign, kwargs)\n",
      " |  \n",
      " |  Method resolution order:\n",
      " |      _PredictScorer\n",
      " |      _BaseScorer\n",
      " |      builtins.object\n",
      " |  \n",
      " |  Methods defined here:\n",
      " |  \n",
      " |  __call__(self, estimator, X, y_true, sample_weight=None)\n",
      " |      Evaluate predicted target values for X relative to y_true.\n",
      " |      \n",
      " |      Parameters\n",
      " |      ----------\n",
      " |      estimator : object\n",
      " |          Trained estimator to use for scoring. Must have a predict_proba\n",
      " |          method; the output of that is used to compute the score.\n",
      " |      \n",
      " |      X : array-like or sparse matrix\n",
      " |          Test data that will be fed to estimator.predict.\n",
      " |      \n",
      " |      y_true : array-like\n",
      " |          Gold standard target values for X.\n",
      " |      \n",
      " |      sample_weight : array-like, optional (default=None)\n",
      " |          Sample weights.\n",
      " |      \n",
      " |      Returns\n",
      " |      -------\n",
      " |      score : float\n",
      " |          Score function applied to prediction of estimator on X.\n",
      " |  \n",
      " |  ----------------------------------------------------------------------\n",
      " |  Data and other attributes defined here:\n",
      " |  \n",
      " |  __abstractmethods__ = frozenset()\n",
      " |  \n",
      " |  ----------------------------------------------------------------------\n",
      " |  Methods inherited from _BaseScorer:\n",
      " |  \n",
      " |  __init__(self, score_func, sign, kwargs)\n",
      " |      Initialize self.  See help(type(self)) for accurate signature.\n",
      " |  \n",
      " |  __repr__(self)\n",
      " |      Return repr(self).\n",
      " |  \n",
      " |  ----------------------------------------------------------------------\n",
      " |  Data descriptors inherited from _BaseScorer:\n",
      " |  \n",
      " |  __dict__\n",
      " |      dictionary for instance variables (if defined)\n",
      " |  \n",
      " |  __weakref__\n",
      " |      list of weak references to the object (if defined)\n",
      "\n"
     ]
    }
   ],
   "source": [
    "help(score)"
   ]
  },
  {
   "cell_type": "markdown",
   "metadata": {},
   "source": [
    "Использование фабричной функции make_scorer \n",
    "\n",
    "1)мы определяем фунцию, которая принимает 2 аргумента: целевой метод полевых наблюдений и наши предсказанные значения\n",
    "\n",
    "эта функция - выдает некоторую оценку\n",
    "\n",
    "2)используем функцию make_scorer для создания объекта scorer, указав, являются ли более всокие или более низкие оценки желательными."
   ]
  },
  {
   "cell_type": "markdown",
   "metadata": {},
   "source": [
    "Собственный метрический показатель custom_metric является игрушечным примером, поскольку он просто обертывает встроенный метрический показатель, вычисляющий оценку r2."
   ]
  },
  {
   "cell_type": "markdown",
   "metadata": {},
   "source": [
    "В реальнойситуации можно заменить custom_metric на любой собственный метрический показатель, который требуется.\n",
    "Но даже текущий метрический показатель - работает, сравним(со встроенным в scikit_learn методом r2_score:"
   ]
  },
  {
   "cell_type": "code",
   "execution_count": 10,
   "metadata": {},
   "outputs": [
    {
     "data": {
      "text/plain": [
       "0.9997906102882058"
      ]
     },
     "execution_count": 10,
     "metadata": {},
     "output_type": "execute_result"
    }
   ],
   "source": [
    "target_predicted = model.predict(features_test)\n",
    "r2_score(target_test, target_predicted)"
   ]
  },
  {
   "cell_type": "markdown",
   "metadata": {},
   "source": [
    "# Визуализация эффекта размера тренировочного набора"
   ]
  },
  {
   "cell_type": "markdown",
   "metadata": {},
   "source": [
    "Требуется оценить эффект влияния количества наблюдений в тренировочном наборе на некоторый метрический показатель(точность, F1 итд)."
   ]
  },
  {
   "cell_type": "markdown",
   "metadata": {},
   "source": [
    "Построить график кривой заучивания."
   ]
  },
  {
   "cell_type": "code",
   "execution_count": 1,
   "metadata": {},
   "outputs": [],
   "source": [
    "#загрузить библиотеки\n",
    "import numpy as np\n",
    "import matplotlib.pyplot as plt\n",
    "from sklearn.ensemble import RandomForestClassifier\n",
    "from sklearn.datasets import load_digits\n",
    "from sklearn.model_selection import learning_curve"
   ]
  },
  {
   "cell_type": "code",
   "execution_count": 2,
   "metadata": {},
   "outputs": [],
   "source": [
    "#загрузить данные\n",
    "digits = load_digits()"
   ]
  },
  {
   "cell_type": "code",
   "execution_count": 3,
   "metadata": {},
   "outputs": [],
   "source": [
    "#создать матрицу признаков и вектор целей\n",
    "features, target = digits.data, digits.target"
   ]
  },
  {
   "cell_type": "code",
   "execution_count": 4,
   "metadata": {},
   "outputs": [],
   "source": [
    "#создать перекрестно-проверочные тренировочные и тестовые \n",
    "#оценки для разных размеров тренировочного набора\n",
    "\n",
    "train_sizes, train_scores, test_scores = learning_curve(\n",
    "                            RandomForestClassifier(), #классификатор\n",
    "                            features, #матрица признаков\n",
    "                            target,   #вектор целей\n",
    "                            cv=10,    #колиество блоков\n",
    "                            scoring='accuracy', #показатель результативности\n",
    "                            n_jobs=-1, #использовать все ядра CPU\n",
    "                            train_sizes=np.linspace(0.01, 1.0, 50)) #размеры 50 тренировочных наборов"
   ]
  },
  {
   "cell_type": "code",
   "execution_count": 5,
   "metadata": {},
   "outputs": [],
   "source": [
    "#создать среднее и стандартные отклонения оценок тренировочного набора\n",
    "train_mean = np.mean(train_scores, axis=1)\n",
    "train_std = np.std(train_scores, axis=1)"
   ]
  },
  {
   "cell_type": "code",
   "execution_count": 12,
   "metadata": {},
   "outputs": [
    {
     "name": "stdout",
     "output_type": "stream",
     "text": [
      "train_mean =  [0.99375    0.99791667 0.99876543 1.         0.99863014 0.9988764\n",
      " 1.         1.         0.99927536 0.99967638 0.99853372 0.99946524\n",
      " 0.99950739 0.99931663 0.99915254 0.99900794 0.9990689  0.99876977\n",
      " 0.99950166 0.99952681 0.9994003  0.99885714 0.99945355 0.99934641\n",
      " 0.99949812 0.99975904 0.99965197 0.99955307 0.99935345 0.9990625\n",
      " 0.99959718 0.99931707 0.99971645 0.9993578  0.99955476 0.99930796\n",
      " 0.99957912 0.9995086  0.99920192 0.9996112  0.99992413 0.9996299\n",
      " 0.99956647 0.99971751 0.99924086 0.99945982 0.99966975 0.99954722\n",
      " 0.99962001 0.99944169]\n",
      "train_std =  [0.01875    0.00625    0.0037037  0.         0.00273973 0.00224719\n",
      " 0.         0.         0.00144928 0.00097087 0.00146628 0.00106952\n",
      " 0.00098522 0.00145857 0.00140535 0.00099206 0.0012492  0.00137263\n",
      " 0.00076123 0.0007228  0.00099449 0.00085714 0.00066926 0.00087689\n",
      " 0.00061468 0.00048193 0.00074282 0.00054737 0.00071479 0.00118311\n",
      " 0.000668   0.00087805 0.00043314 0.00058744 0.00059735 0.00064735\n",
      " 0.00077606 0.0006552  0.00079808 0.00052163 0.00022762 0.00059676\n",
      " 0.00047928 0.00046845 0.00084241 0.00050529 0.00044308 0.00041417\n",
      " 0.00050665 0.0005153 ]\n"
     ]
    }
   ],
   "source": [
    "print('train_mean = ', train_mean)\n",
    "print('train_std = ', train_std)"
   ]
  },
  {
   "cell_type": "code",
   "execution_count": 13,
   "metadata": {},
   "outputs": [
    {
     "name": "stdout",
     "output_type": "stream",
     "text": [
      "test_mean =  [0.40435932 0.55280609 0.59889588 0.66455942 0.69144105 0.715699\n",
      " 0.73751764 0.7434941  0.75532023 0.79072008 0.7927662  0.81289599\n",
      " 0.82907329 0.82296021 0.82810399 0.85299038 0.86238925 0.86024862\n",
      " 0.87012832 0.86968472 0.87167573 0.87591014 0.87307122 0.88031981\n",
      " 0.89419646 0.88555235 0.88656474 0.89196971 0.88311182 0.89133485\n",
      " 0.89205315 0.89322504 0.90259106 0.90517087 0.89526107 0.89046102\n",
      " 0.8932172  0.90489159 0.89434181 0.91488484 0.91002576 0.91431497\n",
      " 0.90821274 0.91165857 0.91309568 0.91146496 0.92338848 0.91114988\n",
      " 0.91938332 0.92104921]\n",
      "test_std =  [0.08136107 0.07767134 0.0940748  0.07719667 0.07791081 0.08533209\n",
      " 0.07455025 0.07365316 0.06353843 0.05088909 0.07224313 0.06956391\n",
      " 0.06259694 0.04969541 0.06154169 0.04755939 0.04045921 0.0517642\n",
      " 0.04124206 0.03556075 0.03006624 0.02586194 0.03195627 0.03056186\n",
      " 0.02669216 0.0307573  0.0341535  0.03108471 0.03890195 0.0342361\n",
      " 0.03120778 0.03641262 0.03503089 0.03186983 0.03131792 0.03769615\n",
      " 0.02892344 0.03666946 0.02905154 0.0287696  0.03776853 0.02547445\n",
      " 0.02383482 0.03340461 0.02351008 0.03009159 0.03348262 0.02685055\n",
      " 0.02818194 0.03432035]\n"
     ]
    }
   ],
   "source": [
    "#создать среднее и стандартные отклонения оценок тестового набора\n",
    "test_mean = np.mean(test_scores, axis=1)\n",
    "test_std = np.std(test_scores, axis=1)\n",
    "\n",
    "print('test_mean = ', test_mean)\n",
    "print('test_std = ', test_std)"
   ]
  },
  {
   "cell_type": "code",
   "execution_count": 11,
   "metadata": {},
   "outputs": [
    {
     "data": {
      "image/png": "[encoded data removed]",
      "text/plain": [
       "<Figure size 432x288 with 1 Axes>"
      ]
     },
     "metadata": {
      "needs_background": "light"
     },
     "output_type": "display_data"
    }
   ],
   "source": [
    "#нанести линии\n",
    "plt.plot(train_sizes, train_mean, '--', color='#111111', label='Тренировочная оценка')\n",
    "plt.plot(train_sizes, test_mean, color='#111111', label='Перекрестно-проверочная оценка')\n",
    "\n",
    "#нанести полосы\n",
    "plt.fill_between(train_sizes, train_mean - train_std, train_mean + train_std, color='#DDDDDD')\n",
    "plt.fill_between(train_sizes, test_mean - test_std, test_mean + test_std, color='#DDDDDD')\n",
    "\n",
    "#построить график\n",
    "plt.title(\"Кривая заучивания\")\n",
    "plt.xlabel(\"Размер тренировочного набора\")\n",
    "plt.ylabel(\"Оценка точности\")\n",
    "plt.legend(loc=\"best\")\n",
    "plt.tight_layout()\n",
    "plt.show()"
   ]
  },
  {
   "cell_type": "markdown",
   "metadata": {},
   "source": [
    "Кривые заучивания визуализируют результативность(напр, точность, полноту) модели на тренировочном наборе и во время перекрестной проверки по мере увеличения количества наблюдений в тренировочном наборе."
   ]
  },
  {
   "cell_type": "markdown",
   "metadata": {},
   "source": [
    "Широко используются, если нужно понять выигрывают ли наши обучающие алгоритмы от сбора дополнительных тренировочных данных."
   ]
  },
  {
   "cell_type": "markdown",
   "metadata": {},
   "source": [
    "В данном примере, мы строим график точности классификатора случайного леса при 50 разных размерах тренировочного набора от 1 % наблюдений до 100%. Возрастаемая оценка точности перекрестно-проверяемых моделей говорит о том, что мы скорее всего выигрываем от допонительных наблюдений."
   ]
  },
  {
   "cell_type": "markdown",
   "metadata": {},
   "source": [
    "# Создание тестового отчета об оценочных метрических показателях"
   ]
  },
  {
   "cell_type": "markdown",
   "metadata": {},
   "source": [
    "Требуется краткое описание результативности классификатора."
   ]
  },
  {
   "cell_type": "markdown",
   "metadata": {},
   "source": [
    "Использовать функцию classification_report библиотеки scikit-learn"
   ]
  },
  {
   "cell_type": "code",
   "execution_count": 1,
   "metadata": {},
   "outputs": [],
   "source": [
    "#загрузить библиотеки\n",
    "from sklearn import datasets\n",
    "from sklearn.linear_model import LogisticRegression\n",
    "from sklearn.model_selection import train_test_split\n",
    "from sklearn.metrics import classification_report"
   ]
  },
  {
   "cell_type": "code",
   "execution_count": 3,
   "metadata": {},
   "outputs": [],
   "source": [
    "#загрузить данные\n",
    "iris = datasets.load_iris()"
   ]
  },
  {
   "cell_type": "code",
   "execution_count": 4,
   "metadata": {},
   "outputs": [],
   "source": [
    "#создать матрицу признаков и вектор целей\n",
    "features, target = iris.data, iris.target"
   ]
  },
  {
   "cell_type": "code",
   "execution_count": 5,
   "metadata": {},
   "outputs": [],
   "source": [
    "#создать список имен целевых классов\n",
    "class_names = iris.target_names"
   ]
  },
  {
   "cell_type": "code",
   "execution_count": 6,
   "metadata": {},
   "outputs": [],
   "source": [
    "#разбить на тренировочный и тестовые наборы\n",
    "features_train, features_test, target_train, target_test = train_test_split(features, target, random_state=1)"
   ]
  },
  {
   "cell_type": "code",
   "execution_count": 8,
   "metadata": {},
   "outputs": [],
   "source": [
    "#создать объект Логистической регрессии\n",
    "clf = LogisticRegression()"
   ]
  },
  {
   "cell_type": "code",
   "execution_count": 9,
   "metadata": {},
   "outputs": [
    {
     "name": "stderr",
     "output_type": "stream",
     "text": [
      "C:\\Users\\user\\Anaconda3\\lib\\site-packages\\sklearn\\linear_model\\logistic.py:432: FutureWarning: Default solver will be changed to 'lbfgs' in 0.22. Specify a solver to silence this warning.\n",
      "  FutureWarning)\n",
      "C:\\Users\\user\\Anaconda3\\lib\\site-packages\\sklearn\\linear_model\\logistic.py:469: FutureWarning: Default multi_class will be changed to 'auto' in 0.22. Specify the multi_class option to silence this warning.\n",
      "  \"this warning.\", FutureWarning)\n"
     ]
    }
   ],
   "source": [
    "model = clf.fit(features_train, target_train)"
   ]
  },
  {
   "cell_type": "code",
   "execution_count": 10,
   "metadata": {},
   "outputs": [],
   "source": [
    "target_predicted = model.predict(features_test)"
   ]
  },
  {
   "cell_type": "code",
   "execution_count": 12,
   "metadata": {},
   "outputs": [
    {
     "name": "stdout",
     "output_type": "stream",
     "text": [
      "              precision    recall  f1-score   support\n",
      "\n",
      "      setosa       1.00      1.00      1.00        13\n",
      "  versicolor       1.00      0.62      0.77        16\n",
      "   virginica       0.60      1.00      0.75         9\n",
      "\n",
      "    accuracy                           0.84        38\n",
      "   macro avg       0.87      0.88      0.84        38\n",
      "weighted avg       0.91      0.84      0.84        38\n",
      "\n"
     ]
    }
   ],
   "source": [
    "#создать классификационный отчет\n",
    "print(classification_report(target_test, target_predicted, target_names=class_names))"
   ]
  },
  {
   "cell_type": "raw",
   "metadata": {},
   "source": [
    "Функция classification_report обеспечивает оперативное средство для того, чтобы увидеть некоторые распространенные оценочные метрические показатели, включая точность, полноту, оценку F1. Поддержка (колонка support) относится к количеству наблюдений в каждом классе."
   ]
  },
  {
   "cell_type": "markdown",
   "metadata": {},
   "source": [
    "# Визуализация эффекта значений гиперпараметра"
   ]
  },
  {
   "cell_type": "markdown",
   "metadata": {},
   "source": [
    "Треюуется разобраться в том, как результативность модели изменяется по мере изменения значений некоторого гиперпараметра."
   ]
  },
  {
   "cell_type": "markdown",
   "metadata": {},
   "source": [
    "Построить график валидационной кривой."
   ]
  },
  {
   "cell_type": "code",
   "execution_count": 13,
   "metadata": {},
   "outputs": [],
   "source": [
    "#загрузить библиотеки\n",
    "import matplotlib.pyplot as plt\n",
    "import numpy as np\n",
    "from sklearn.datasets import load_digits\n",
    "from sklearn.ensemble import RandomForestClassifier\n",
    "from sklearn.model_selection import validation_curve"
   ]
  },
  {
   "cell_type": "code",
   "execution_count": 14,
   "metadata": {},
   "outputs": [],
   "source": [
    "#загрузить данные\n",
    "digits = load_digits()"
   ]
  },
  {
   "cell_type": "code",
   "execution_count": 15,
   "metadata": {},
   "outputs": [],
   "source": [
    "#создать матрицу признаков и вектор целей\n",
    "features, target = digits.data, digits.target"
   ]
  },
  {
   "cell_type": "code",
   "execution_count": 17,
   "metadata": {},
   "outputs": [],
   "source": [
    "#создать диапазон значений для параметра\n",
    "param_range = np.arange(1, 250, 2)"
   ]
  },
  {
   "cell_type": "code",
   "execution_count": 18,
   "metadata": {},
   "outputs": [],
   "source": [
    "#вычислить точность на тренировочном и тестовом наборах, \n",
    "#используя диапазон значений параметра\n",
    "train_scores, test_scores = validation_curve(\n",
    "    RandomForestClassifier(), #классификатор\n",
    "    features,                 #матрица признаков\n",
    "    target,                   #вектор целей\n",
    "    param_name=\"n_estimators\", #исследуемый гиперпараметр #количество деревьев в лесе\n",
    "    param_range=param_range,   #диапазон значений гиперпараметров\n",
    "    cv=3,                      #количество блоков\n",
    "    scoring=\"accuracy\",        #показатель результативности\n",
    "    n_jobs=-1)                 #использовать все ядра CPU"
   ]
  },
  {
   "cell_type": "code",
   "execution_count": 19,
   "metadata": {},
   "outputs": [],
   "source": [
    "#вычислить среднее и стандартное отклонение для оценок тренировочного набора\n",
    "train_mean = np.mean(train_scores, axis=1)\n",
    "train_std = np.std(train_scores, axis=1)"
   ]
  },
  {
   "cell_type": "code",
   "execution_count": 20,
   "metadata": {},
   "outputs": [],
   "source": [
    "#вычислить среднее и стандартное отклонение для оценок тестового набора\n",
    "test_mean = np.mean(test_scores, axis=1)\n",
    "test_std = np.std(test_scores, axis=1)"
   ]
  },
  {
   "cell_type": "code",
   "execution_count": 22,
   "metadata": {},
   "outputs": [
    {
     "data": {
      "image/png": "[encoded data removed]",
      "text/plain": [
       "<Figure size 432x288 with 1 Axes>"
      ]
     },
     "metadata": {
      "needs_background": "light"
     },
     "output_type": "display_data"
    }
   ],
   "source": [
    "#построить график средних оценок точности для тренировочного и тестового наборов\n",
    "plt.plot(param_range, train_mean, color=\"black\", label=\"Тренировочная оценка\")\n",
    "plt.plot(param_range, test_mean, color=\"dimgrey\", label=\"Перекрестно-проверочная оценка\")\n",
    "#Нанести полосы точности для тренировочного и тестового наборов\n",
    "plt.fill_between(param_range, train_mean - train_std, train_mean + train_std, color=\"grey\")\n",
    "plt.fill_between(param_range, test_mean - test_std, test_mean + test_std, color=\"gainsboro\")\n",
    "\n",
    "#создать график\n",
    "plt.title(\"Валидационная кривая со случайным лесом\")\n",
    "plt.xlabel(\"Количество деревьев\")\n",
    "plt.ylabel(\"Оценка точности\")\n",
    "plt.legend(loc=\"best\")\n",
    "plt.tight_layout()\n",
    "plt.show()"
   ]
  },
  {
   "cell_type": "markdown",
   "metadata": {},
   "source": [
    "Значения гиперпараметров выбираются при отборе модели. График показывает как результативность модели изменяется по мере изменения значения гиперпараметра.\n",
    "При небольшом количестве деревьев - тренировочная и перекрестно-проверочная оценки - низкие, что свидетельствует о том, что модель недостаточно подогнана.\n",
    "Когда количество деревьев увеличивается до 250, точность обоих выравнивается. Это свидетельствует о том, что не будет какой-то особой ценности в вычислительных затратах на тренировку."
   ]
  },
  {
   "cell_type": "markdown",
   "metadata": {},
   "source": [
    "Параметры validation_curve:\n",
    "\n",
    "param_name - имя варьируемого гиперпараметра\n",
    "param_range - используемое значение гиперпараметра\n",
    "scoring - оценочный метрический показатель, используемый для оценивания модели"
   ]
  }
 ],
 "metadata": {
  "kernelspec": {
   "display_name": "Python 3",
   "language": "python",
   "name": "python3"
  },
  "language_info": {
   "codemirror_mode": {
    "name": "ipython",
    "version": 3
   },
   "file_extension": ".py",
   "mimetype": "text/x-python",
   "name": "python",
   "nbconvert_exporter": "python",
   "pygments_lexer": "ipython3",
   "version": "3.7.0"
  }
 },
 "nbformat": 4,
 "nbformat_minor": 2
}
